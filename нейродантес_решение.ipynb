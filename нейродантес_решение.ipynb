{
  "nbformat": 4,
  "nbformat_minor": 0,
  "metadata": {
    "colab": {
      "name": "нейродантес_решение.ipynb",
      "provenance": [],
      "collapsed_sections": [
        "EW-QRlXN36To",
        "RhxfdzMBn7Im",
        "8bJ_JVrdoMfd"
      ],
      "include_colab_link": true
    },
    "kernelspec": {
      "name": "python3",
      "display_name": "Python 3"
    },
    "language_info": {
      "name": "python"
    }
  },
  "cells": [
    {
      "cell_type": "markdown",
      "metadata": {
        "id": "view-in-github",
        "colab_type": "text"
      },
      "source": [
        "<a href=\"https://colab.research.google.com/github/nikitagordeev10/8-1-course-university-introduction-unit-testing-lab-1/blob/main/%D0%BD%D0%B5%D0%B9%D1%80%D0%BE%D0%B4%D0%B0%D0%BD%D1%82%D0%B5%D1%81_%D1%80%D0%B5%D1%88%D0%B5%D0%BD%D0%B8%D0%B5.ipynb\" target=\"_parent\"><img src=\"https://colab.research.google.com/assets/colab-badge.svg\" alt=\"Open In Colab\"/></a>"
      ]
    },
    {
      "cell_type": "markdown",
      "source": [
        "# **Импорт библиотек**"
      ],
      "metadata": {
        "id": "Eo9vphZBnsbe"
      }
    },
    {
      "cell_type": "code",
      "source": [
        "import numpy as np\n",
        "import pandas as pd\n",
        "\n",
        "import matplotlib.pyplot as plt\n",
        "\n",
        "from sklearn.metrics import classification_report, confusion_matrix, accuracy_score\n",
        "\n",
        "!pip install catboost\n",
        "from catboost import CatBoostClassifier, Pool\n",
        "!pip install lightgbm\n",
        "import lightgbm as lgb"
      ],
      "metadata": {
        "id": "XFy510QenrhF",
        "colab": {
          "base_uri": "https://localhost:8080/"
        },
        "outputId": "6f92cd0f-2e21-4585-de69-1c6c7f1333d4"
      },
      "execution_count": null,
      "outputs": [
        {
          "output_type": "stream",
          "name": "stdout",
          "text": [
            "Looking in indexes: https://pypi.org/simple, https://us-python.pkg.dev/colab-wheels/public/simple/\n",
            "Requirement already satisfied: catboost in /usr/local/lib/python3.7/dist-packages (1.0.6)\n",
            "Requirement already satisfied: graphviz in /usr/local/lib/python3.7/dist-packages (from catboost) (0.10.1)\n",
            "Requirement already satisfied: six in /usr/local/lib/python3.7/dist-packages (from catboost) (1.15.0)\n",
            "Requirement already satisfied: numpy>=1.16.0 in /usr/local/lib/python3.7/dist-packages (from catboost) (1.21.6)\n",
            "Requirement already satisfied: scipy in /usr/local/lib/python3.7/dist-packages (from catboost) (1.7.3)\n",
            "Requirement already satisfied: pandas>=0.24.0 in /usr/local/lib/python3.7/dist-packages (from catboost) (1.3.5)\n",
            "Requirement already satisfied: plotly in /usr/local/lib/python3.7/dist-packages (from catboost) (5.5.0)\n",
            "Requirement already satisfied: matplotlib in /usr/local/lib/python3.7/dist-packages (from catboost) (3.2.2)\n",
            "Requirement already satisfied: python-dateutil>=2.7.3 in /usr/local/lib/python3.7/dist-packages (from pandas>=0.24.0->catboost) (2.8.2)\n",
            "Requirement already satisfied: pytz>=2017.3 in /usr/local/lib/python3.7/dist-packages (from pandas>=0.24.0->catboost) (2022.2.1)\n",
            "Requirement already satisfied: cycler>=0.10 in /usr/local/lib/python3.7/dist-packages (from matplotlib->catboost) (0.11.0)\n",
            "Requirement already satisfied: kiwisolver>=1.0.1 in /usr/local/lib/python3.7/dist-packages (from matplotlib->catboost) (1.4.4)\n",
            "Requirement already satisfied: pyparsing!=2.0.4,!=2.1.2,!=2.1.6,>=2.0.1 in /usr/local/lib/python3.7/dist-packages (from matplotlib->catboost) (3.0.9)\n",
            "Requirement already satisfied: typing-extensions in /usr/local/lib/python3.7/dist-packages (from kiwisolver>=1.0.1->matplotlib->catboost) (4.1.1)\n",
            "Requirement already satisfied: tenacity>=6.2.0 in /usr/local/lib/python3.7/dist-packages (from plotly->catboost) (8.0.1)\n",
            "Looking in indexes: https://pypi.org/simple, https://us-python.pkg.dev/colab-wheels/public/simple/\n",
            "Requirement already satisfied: lightgbm in /usr/local/lib/python3.7/dist-packages (2.2.3)\n",
            "Requirement already satisfied: scipy in /usr/local/lib/python3.7/dist-packages (from lightgbm) (1.7.3)\n",
            "Requirement already satisfied: numpy in /usr/local/lib/python3.7/dist-packages (from lightgbm) (1.21.6)\n",
            "Requirement already satisfied: scikit-learn in /usr/local/lib/python3.7/dist-packages (from lightgbm) (1.0.2)\n",
            "Requirement already satisfied: joblib>=0.11 in /usr/local/lib/python3.7/dist-packages (from scikit-learn->lightgbm) (1.1.0)\n",
            "Requirement already satisfied: threadpoolctl>=2.0.0 in /usr/local/lib/python3.7/dist-packages (from scikit-learn->lightgbm) (3.1.0)\n"
          ]
        }
      ]
    },
    {
      "cell_type": "markdown",
      "source": [
        "# **Подключение Google Диска (Тимофей)**"
      ],
      "metadata": {
        "id": "u2rOdwbl3pnn"
      }
    },
    {
      "cell_type": "code",
      "execution_count": null,
      "metadata": {
        "colab": {
          "base_uri": "https://localhost:8080/"
        },
        "id": "7NEhrXaFYF_d",
        "outputId": "fb0f23d0-2258-425f-808f-c0035512b2bb"
      },
      "outputs": [
        {
          "output_type": "stream",
          "name": "stdout",
          "text": [
            "Drive already mounted at /content/gdrive; to attempt to forcibly remount, call drive.mount(\"/content/gdrive\", force_remount=True).\n"
          ]
        }
      ],
      "source": [
        "from google.colab import drive\n",
        "drive.mount('/content/gdrive')\n",
        "\n",
        "# Исправьте путь до папки на вашем гугл диске:\n",
        "gc_path = r\"/content/gdrive/MyDrive/НейроДантес/\""
      ]
    },
    {
      "cell_type": "markdown",
      "source": [
        "# **Очистка данных (не работает)**"
      ],
      "metadata": {
        "id": "EW-QRlXN36To"
      }
    },
    {
      "cell_type": "code",
      "source": [
        "df = pd.read_csv(gc_path+'train.csv', on_bad_lines='skip', sep=';')"
      ],
      "metadata": {
        "id": "_MFwyqHKZA0p"
      },
      "execution_count": null,
      "outputs": []
    },
    {
      "cell_type": "markdown",
      "source": [
        "## **\"subject_type\" (Никита)**"
      ],
      "metadata": {
        "id": "mrjPr8c18amY"
      }
    },
    {
      "cell_type": "code",
      "source": [
        "# def clean_subject_type(*args, **kwargs):\n",
        "#   tbl_sb = pd.Series(df.subject_type)\n",
        "#   selected = pd.get_dummies(tbl_sb)\n",
        "\n",
        "#   del df['subject_type']\n",
        "#   df = pd.concat([df, selected], axis=1)\n",
        "#   return df"
      ],
      "metadata": {
        "id": "-xWSZUxt8r7E"
      },
      "execution_count": null,
      "outputs": []
    },
    {
      "cell_type": "markdown",
      "source": [
        "## **\"period\" (Артём)**"
      ],
      "metadata": {
        "id": "hOP0vZa89BrA"
      }
    },
    {
      "cell_type": "code",
      "source": [
        "# def clean_period(*args, **kwargs):\n",
        "#   tbl_period = pd.Series(df.period)\n",
        "#   pd.get_dummies(tbl_period)"
      ],
      "metadata": {
        "id": "fizxFrHe9hLN"
      },
      "execution_count": null,
      "outputs": []
    },
    {
      "cell_type": "code",
      "source": [
        "  # for i in range(12):\n",
        "  #   i = i+1\n",
        "  #   if (i < 10):\n",
        "  #     i = f'0{i}'\n",
        "  #   df = df.replace({'period' : { f'2020-{i}-01' : int(i)}})\n",
        "\n",
        "\n",
        "  # s = pd.Series(df.period)\n",
        "  # k = pd.get_dummies(s)\n",
        "\n",
        "  # column_list = []\n",
        "  # i_list = []\n",
        "\n",
        "  # for column in k:\n",
        "  #   column_list.append(int(column))\n",
        "    \n",
        "  # for j in range(12):\n",
        "  #   i_list.append(j+1)\n",
        "\n",
        "  # result=list(set(i_list) - set(column_list))\n",
        "  # result.reverse()\n",
        "\n",
        "  # for i in result:\n",
        "  #   k.insert(0, i, 0)\n",
        "\n",
        "  # del df['period']\n",
        "  # df = pd.concat([df, k], axis=1)"
      ],
      "metadata": {
        "id": "PeY4rtcM9kOt"
      },
      "execution_count": null,
      "outputs": []
    },
    {
      "cell_type": "markdown",
      "source": [
        "## **\"hex\" (Тимофей)**"
      ],
      "metadata": {
        "id": "KaEtzmcN8j0h"
      }
    },
    {
      "cell_type": "markdown",
      "source": [
        "`hex из 16сс в 10сс`"
      ],
      "metadata": {
        "id": "jWno3kmn6lDT"
      }
    },
    {
      "cell_type": "code",
      "source": [
        "# def clean_hex(*args, **kwargs):\n",
        "#   b16 = lambda x: int(x,16)\n",
        "#   df['hex'] = df['hex'].apply(b16)"
      ],
      "metadata": {
        "id": "lHP9BMHKEj86"
      },
      "execution_count": null,
      "outputs": []
    },
    {
      "cell_type": "markdown",
      "source": [
        "## **\"subject_name\" (Никита)**"
      ],
      "metadata": {
        "id": "6yzpDcRYAYG_"
      }
    },
    {
      "cell_type": "code",
      "source": [
        "# def clean_subject_name(*args, **kwargs):\n",
        "#   data = pd.DataFrame(df.subject_name)\n",
        "\n",
        "#   bn = BinaryEncoder(df.subject_name)\n",
        "#   data_subject_name = bn.fit_transform(data.values)"
      ],
      "metadata": {
        "id": "zw3-JtCOJP0v"
      },
      "execution_count": null,
      "outputs": []
    },
    {
      "cell_type": "code",
      "source": [
        "  # data_subject_name"
      ],
      "metadata": {
        "id": "aXmZqmrDSvdy"
      },
      "execution_count": null,
      "outputs": []
    },
    {
      "cell_type": "code",
      "source": [
        "  # total_cols=len(data_subject_name.axes[1]) \n",
        "  # total_cols"
      ],
      "metadata": {
        "id": "RDVXaMhHP0UU"
      },
      "execution_count": null,
      "outputs": []
    },
    {
      "cell_type": "code",
      "source": [
        "  # num_array = []\n",
        "  # for i in range (0, total_cols):\n",
        "  #   num_array.append(\"subject_name_\"+str(i))\n",
        "  # num_array"
      ],
      "metadata": {
        "id": "HGTLmLq1QSak"
      },
      "execution_count": null,
      "outputs": []
    },
    {
      "cell_type": "code",
      "source": [
        "  # data_subject_name.columns = num_array\n",
        "  # data_subject_name"
      ],
      "metadata": {
        "id": "Mkw67RCmQ7-5"
      },
      "execution_count": null,
      "outputs": []
    },
    {
      "cell_type": "code",
      "source": [
        "  # del df['subject_name']\n",
        "  # df = pd.concat([df, data_subject_name], axis=1, join='outer') "
      ],
      "metadata": {
        "id": "v7pW5iz6BMjU"
      },
      "execution_count": null,
      "outputs": []
    },
    {
      "cell_type": "code",
      "source": [
        "  # df"
      ],
      "metadata": {
        "id": "7Tbrtj4ARwkN"
      },
      "execution_count": null,
      "outputs": []
    },
    {
      "cell_type": "markdown",
      "source": [
        "## **\"city_name\" (Никита)**"
      ],
      "metadata": {
        "id": "pO-JTkscKmBv"
      }
    },
    {
      "cell_type": "code",
      "source": [
        "# def clean_city_name(*args, **kwargs):\n",
        "#   data = pd.DataFrame(df.city_name)\n",
        "\n",
        "#   bn = BinaryEncoder(df.city_name)\n",
        "#   data_city_name = bn.fit_transform(data.values)"
      ],
      "metadata": {
        "id": "6WNp2L69K5Iy"
      },
      "execution_count": null,
      "outputs": []
    },
    {
      "cell_type": "code",
      "source": [
        "  # del df['city_name']\n",
        "  # df = pd.concat([df, data_city_name], axis=1, join='outer') "
      ],
      "metadata": {
        "id": "g8L0fIw-K-rH"
      },
      "execution_count": null,
      "outputs": []
    },
    {
      "cell_type": "markdown",
      "source": [
        "# **Обработка данных (не работает)**"
      ],
      "metadata": {
        "id": "4PF7qty--Jbx"
      }
    },
    {
      "cell_type": "markdown",
      "source": [
        "`Подсчёт 0 и 1 в label`"
      ],
      "metadata": {
        "id": "WmLRf5rMlctQ"
      }
    },
    {
      "cell_type": "code",
      "source": [
        "# col = 'label'\n",
        "# dft = df.groupby([col])[col].count()\n",
        "# dft"
      ],
      "metadata": {
        "id": "T-phmmxlcsoC"
      },
      "execution_count": null,
      "outputs": []
    },
    {
      "cell_type": "code",
      "source": [
        "# total_rows=len(df.axes[0]) \n",
        "# total_cols=len(df.axes[1]) \n",
        "# print(\"Number of Rows: \"+str(total_rows))\n",
        "# print(\"Number of Columns: \"+str(total_cols))"
      ],
      "metadata": {
        "id": "IFB9Bb8C0XhW"
      },
      "execution_count": null,
      "outputs": []
    },
    {
      "cell_type": "markdown",
      "source": [
        "## **Дозаполнение пустых ячеек (Дмитрий)**"
      ],
      "metadata": {
        "id": "1VDOMS92kidB"
      }
    },
    {
      "cell_type": "markdown",
      "source": [
        "`Подставить в f наиболее часто встречающееся значение`"
      ],
      "metadata": {
        "id": "IYo5wXDTmFvE"
      }
    },
    {
      "cell_type": "code",
      "source": [
        "# def filling_empty_cells(*args, **kwargs):\n",
        "#   fPopular = pd.DataFrame({})\n",
        "#   i = 1\n",
        "#   while i < 31:\n",
        "#     collumn = 'f' + str(i)\n",
        "#     value = df.groupby([collumn])[collumn].count().sort_values(ascending=False).index[0]\n",
        "#     fPopular[collumn] = [value]\n",
        "#     i += 1"
      ],
      "metadata": {
        "id": "gMVOLCItlTAw"
      },
      "execution_count": null,
      "outputs": []
    },
    {
      "cell_type": "markdown",
      "source": [
        "`Тест с f заполненными наиболее часто встречающимися`"
      ],
      "metadata": {
        "id": "uJ8MTEOVmH7J"
      }
    },
    {
      "cell_type": "code",
      "source": [
        "  # for i in range(30):\n",
        "  #   i += 1\n",
        "  #   column = 'f' + str(i)\n",
        "  #   df.loc[(df[column] != pd.notna), column] = fPopular.iloc[0][column]"
      ],
      "metadata": {
        "id": "p1ds4od9l0mn"
      },
      "execution_count": null,
      "outputs": []
    },
    {
      "cell_type": "markdown",
      "source": [
        "Сохранение подготовленных тренировочных данных"
      ],
      "metadata": {
        "id": "1aFcnU0qAmUB"
      }
    },
    {
      "cell_type": "code",
      "source": [
        "# df.to_csv('train_df.csv', sep=';', encoding='utf-8')"
      ],
      "metadata": {
        "id": "NEQ6stI0AfVz"
      },
      "execution_count": null,
      "outputs": []
    },
    {
      "cell_type": "markdown",
      "source": [
        "# **Разработка классификатора, предсказывающего склонность клиента к покупке тарифа домашнего интернета «Игровой»**"
      ],
      "metadata": {
        "id": "FCHff3cG_bbA"
      }
    },
    {
      "cell_type": "markdown",
      "source": [
        "## **Обучение моделей**"
      ],
      "metadata": {
        "id": "BJ95fuGF_r6Q"
      }
    },
    {
      "cell_type": "markdown",
      "source": [
        "### **Вариант 1 \"TensorFlow Deep Neural Network\" (Никита) (не работает)**"
      ],
      "metadata": {
        "id": "j8pFj1vhrjoi"
      }
    },
    {
      "cell_type": "markdown",
      "source": [
        "`Проблема Tensorflow 1 is unsupported in Colab → не запустить tf.contrib...`"
      ],
      "metadata": {
        "id": "SyEzt0nr8wkU"
      }
    },
    {
      "cell_type": "code",
      "source": [
        "# from __future__ import absolute_import\n",
        "# from __future__ import division\n",
        "# from __future__ import print_function\n",
        "\n",
        "# import os\n",
        "# import urllib\n",
        "\n",
        "# import numpy as np\n",
        "\n",
        "# !pip install tensorflow==1.14\n",
        "# from __future__ import absolute_import\n",
        "# from __future__ import division\n",
        "# from __future__ import print_function\n",
        "\n",
        "# import os\n",
        "# import urllib\n",
        "\n",
        "# import numpy as np\n",
        "\n",
        "# !pip install tensorflow==1.14\n",
        "# import tensorflow.compat.v1 as tf"
      ],
      "metadata": {
        "id": "S6eD1-djplZt"
      },
      "execution_count": null,
      "outputs": []
    },
    {
      "cell_type": "code",
      "source": [
        "# # Наборы данных\n",
        "# TARIFF_TRAINING = (gc_path+'train.csv')\n",
        "# TARIFF_TEST = (gc_path+'test.csv')\n",
        "\n",
        "# # Загрузка наборов данных\n",
        "# training_set = tf.contrib.learn.datasets.base.load_csv_with_header(\n",
        "#     filename=TARIFF_TRAINING,\n",
        "#     target_dtype=np.int,\n",
        "#     features_dtype=np.float32)\n",
        "\n",
        "# test_set = tf.contrib.learn.datasets.base.load_csv_with_header(\n",
        "#     filename=TARIFF_TEST,\n",
        "#     target_dtype=np.int,\n",
        "#     features_dtype=np.float32)\n",
        "\n",
        "# # Укажите, что все функции имеют данные реального значения\n",
        "# feature_columns = [tf.contrib.layers.real_valued_column(\"\", dimension=total_cols)]\n",
        "\n",
        "# # Построить 3-х слойную DNN\n",
        "# classifier = tf.contrib.learn.DNNClassifier(feature_columns=feature_columns,\n",
        "#                                             hidden_units=[0,1],\n",
        "#                                             n_classes=2)\n",
        "# # Определите входные данные для обучения\n",
        "# def get_train_inputs():\n",
        "#   x = tf.constant(training_set.data)\n",
        "#   y = tf.constant(training_set.target)\n",
        "\n",
        "#   return x, y\n",
        "\n",
        "# # Подходящая модель\n",
        "# classifier.fit(input_fn=get_train_inputs, steps=2000)\n",
        "\n",
        "# # Определите тестовые входные данные\n",
        "# def get_test_inputs():\n",
        "#   x = tf.constant(test_set.data)\n",
        "#   y = tf.constant(test_set.target)\n",
        "\n",
        "#   return x, y\n",
        "\n",
        "# # Оценка точности\n",
        "# accuracy_score = classifier.evaluate(input_fn=get_test_inputs,\n",
        "#                                       steps=1)[\"accuracy\"]\n",
        "\n",
        "# print(\"\\nTest Accuracy: {0:f}\\n\".format(accuracy_score))\n",
        "\n",
        "# # # Классифицировать нового полоьзователя\n",
        "# # def new_samples():\n",
        "# #   return np.array([[6.4, 2.7, 5.6, 2.1]], dtype=np.float32)\n",
        "\n",
        "# # predictions = list(classifier.predict(input_fn=new_samples))\n",
        "\n",
        "# # print(\"Predicted class: {}\\n\".format(predictions))"
      ],
      "metadata": {
        "id": "r4IrW3h_qI_n"
      },
      "execution_count": null,
      "outputs": []
    },
    {
      "cell_type": "markdown",
      "source": [
        "### **Вариант 2: \"Анасамбли\" (Тимофей)**"
      ],
      "metadata": {
        "id": "eEE8NuNgry7j"
      }
    },
    {
      "cell_type": "markdown",
      "source": [
        "`Временный код`"
      ],
      "metadata": {
        "id": "KRLy8sbPcmC-"
      }
    },
    {
      "cell_type": "code",
      "source": [
        "b16 = lambda x: int(x,16)\n",
        "df['hex'] = df['hex'].apply(b16)\n",
        "\n",
        "df2 = df.drop(columns=['period', 'subject_type', 'subject_name', 'city_name']).fillna(0)"
      ],
      "metadata": {
        "id": "1vt3wybYckYp"
      },
      "execution_count": null,
      "outputs": []
    },
    {
      "cell_type": "code",
      "source": [
        "df_test = pd.read_csv(gc_path+'test.csv', sep=';')\n",
        "df_test = df_test.drop(columns=['period', 'subject_type', 'subject_name', 'city_name']).fillna(0)\n",
        "df_test['hex'] = df_test['hex'].apply(b16)"
      ],
      "metadata": {
        "id": "QpxjpJ5Kc0Ms"
      },
      "execution_count": null,
      "outputs": []
    },
    {
      "cell_type": "markdown",
      "source": [
        "`Основной код`"
      ],
      "metadata": {
        "id": "n8-fz_HzeoJQ"
      }
    },
    {
      "cell_type": "code",
      "source": [
        "# Подготовка данных \n",
        "# df_test = clean_subject_type(df_test)\n",
        "# df_test = clean_period(df_test)\n",
        "# df_test = clean_hex(df_test)\n",
        "# df_test = clean_subject_name(df_test)\n",
        "# df_test = clean_city_name(df_test)\n",
        "\n",
        "from sklearn.metrics import confusion_matrix"
      ],
      "metadata": {
        "id": "T6I5wvrSrQt0"
      },
      "execution_count": null,
      "outputs": []
    },
    {
      "cell_type": "code",
      "source": [
        "# Построить бустинг\n",
        "cat_model = CatBoostClassifier(random_seed=42, iterations=300)\n",
        "cat_model.fit(df2.drop(columns=['label']), df2['label'])\n",
        "\n",
        "# Предсказание \n",
        "y_pred = cat_model.predict(df_test.drop(columns=['label']))\n",
        "confusion_matrix(df_test['label'], y_pred)"
      ],
      "metadata": {
        "id": "2JftqJQDTxeD",
        "colab": {
          "base_uri": "https://localhost:8080/"
        },
        "outputId": "166619f3-2490-4c73-f88e-a4fa5be932db"
      },
      "execution_count": null,
      "outputs": [
        {
          "output_type": "stream",
          "name": "stdout",
          "text": [
            "Learning rate set to 0.352015\n",
            "0:\tlearn: 0.2584942\ttotal: 87.6ms\tremaining: 26.2s\n",
            "1:\tlearn: 0.1457613\ttotal: 172ms\tremaining: 25.7s\n",
            "2:\tlearn: 0.1147177\ttotal: 286ms\tremaining: 28.3s\n",
            "3:\tlearn: 0.1046988\ttotal: 477ms\tremaining: 35.3s\n",
            "4:\tlearn: 0.1001136\ttotal: 658ms\tremaining: 38.8s\n",
            "5:\tlearn: 0.0981917\ttotal: 858ms\tremaining: 42s\n",
            "6:\tlearn: 0.0972148\ttotal: 1.05s\tremaining: 44.2s\n",
            "7:\tlearn: 0.0963979\ttotal: 1.32s\tremaining: 48s\n",
            "8:\tlearn: 0.0955008\ttotal: 1.58s\tremaining: 51.1s\n",
            "9:\tlearn: 0.0946555\ttotal: 1.82s\tremaining: 52.7s\n",
            "10:\tlearn: 0.0941599\ttotal: 2.06s\tremaining: 54.2s\n",
            "11:\tlearn: 0.0937767\ttotal: 2.31s\tremaining: 55.3s\n",
            "12:\tlearn: 0.0933783\ttotal: 2.54s\tremaining: 56.2s\n",
            "13:\tlearn: 0.0931921\ttotal: 2.75s\tremaining: 56.2s\n",
            "14:\tlearn: 0.0928873\ttotal: 2.94s\tremaining: 55.9s\n",
            "15:\tlearn: 0.0926740\ttotal: 3.15s\tremaining: 55.8s\n",
            "16:\tlearn: 0.0924829\ttotal: 3.33s\tremaining: 55.4s\n",
            "17:\tlearn: 0.0922261\ttotal: 3.55s\tremaining: 55.6s\n",
            "18:\tlearn: 0.0920288\ttotal: 3.76s\tremaining: 55.6s\n",
            "19:\tlearn: 0.0918474\ttotal: 3.98s\tremaining: 55.8s\n",
            "20:\tlearn: 0.0916406\ttotal: 4.24s\tremaining: 56.4s\n",
            "21:\tlearn: 0.0915416\ttotal: 4.38s\tremaining: 55.3s\n",
            "22:\tlearn: 0.0914312\ttotal: 4.56s\tremaining: 54.9s\n",
            "23:\tlearn: 0.0913307\ttotal: 4.82s\tremaining: 55.5s\n",
            "24:\tlearn: 0.0911841\ttotal: 5.11s\tremaining: 56.2s\n",
            "25:\tlearn: 0.0910301\ttotal: 5.3s\tremaining: 55.8s\n",
            "26:\tlearn: 0.0909206\ttotal: 5.51s\tremaining: 55.7s\n",
            "27:\tlearn: 0.0906867\ttotal: 5.74s\tremaining: 55.7s\n",
            "28:\tlearn: 0.0905771\ttotal: 6.01s\tremaining: 56.2s\n",
            "29:\tlearn: 0.0905032\ttotal: 6.25s\tremaining: 56.2s\n",
            "30:\tlearn: 0.0904081\ttotal: 6.44s\tremaining: 55.9s\n",
            "31:\tlearn: 0.0902623\ttotal: 6.63s\tremaining: 55.5s\n",
            "32:\tlearn: 0.0901441\ttotal: 6.92s\tremaining: 56s\n",
            "33:\tlearn: 0.0900456\ttotal: 7.15s\tremaining: 55.9s\n",
            "34:\tlearn: 0.0899888\ttotal: 7.34s\tremaining: 55.6s\n",
            "35:\tlearn: 0.0898360\ttotal: 7.58s\tremaining: 55.6s\n",
            "36:\tlearn: 0.0897498\ttotal: 7.87s\tremaining: 55.9s\n",
            "37:\tlearn: 0.0896359\ttotal: 8.04s\tremaining: 55.5s\n",
            "38:\tlearn: 0.0895263\ttotal: 8.31s\tremaining: 55.6s\n",
            "39:\tlearn: 0.0894058\ttotal: 8.53s\tremaining: 55.4s\n",
            "40:\tlearn: 0.0893481\ttotal: 8.74s\tremaining: 55.2s\n",
            "41:\tlearn: 0.0892497\ttotal: 8.92s\tremaining: 54.8s\n",
            "42:\tlearn: 0.0890978\ttotal: 9.15s\tremaining: 54.7s\n",
            "43:\tlearn: 0.0890570\ttotal: 9.32s\tremaining: 54.2s\n",
            "44:\tlearn: 0.0889295\ttotal: 9.55s\tremaining: 54.1s\n",
            "45:\tlearn: 0.0888403\ttotal: 9.76s\tremaining: 53.9s\n",
            "46:\tlearn: 0.0887596\ttotal: 9.95s\tremaining: 53.6s\n",
            "47:\tlearn: 0.0886764\ttotal: 10.2s\tremaining: 53.4s\n",
            "48:\tlearn: 0.0885647\ttotal: 10.4s\tremaining: 53.1s\n",
            "49:\tlearn: 0.0884886\ttotal: 10.7s\tremaining: 53.3s\n",
            "50:\tlearn: 0.0884182\ttotal: 10.9s\tremaining: 53s\n",
            "51:\tlearn: 0.0883499\ttotal: 11.1s\tremaining: 52.7s\n",
            "52:\tlearn: 0.0882903\ttotal: 11.3s\tremaining: 52.5s\n",
            "53:\tlearn: 0.0881790\ttotal: 11.5s\tremaining: 52.3s\n",
            "54:\tlearn: 0.0881024\ttotal: 11.7s\tremaining: 52.3s\n",
            "55:\tlearn: 0.0880402\ttotal: 11.9s\tremaining: 52s\n",
            "56:\tlearn: 0.0879794\ttotal: 12.1s\tremaining: 51.8s\n",
            "57:\tlearn: 0.0879026\ttotal: 12.4s\tremaining: 51.7s\n",
            "58:\tlearn: 0.0878121\ttotal: 12.6s\tremaining: 51.4s\n",
            "59:\tlearn: 0.0877474\ttotal: 12.8s\tremaining: 51s\n",
            "60:\tlearn: 0.0876371\ttotal: 13s\tremaining: 50.9s\n",
            "61:\tlearn: 0.0874102\ttotal: 13.2s\tremaining: 50.6s\n",
            "62:\tlearn: 0.0873261\ttotal: 13.4s\tremaining: 50.5s\n",
            "63:\tlearn: 0.0872819\ttotal: 13.6s\tremaining: 50.2s\n",
            "64:\tlearn: 0.0871874\ttotal: 13.8s\tremaining: 49.8s\n",
            "65:\tlearn: 0.0871313\ttotal: 14s\tremaining: 49.7s\n",
            "66:\tlearn: 0.0870628\ttotal: 14.2s\tremaining: 49.5s\n",
            "67:\tlearn: 0.0869937\ttotal: 14.5s\tremaining: 49.3s\n",
            "68:\tlearn: 0.0869605\ttotal: 14.7s\tremaining: 49.1s\n",
            "69:\tlearn: 0.0868839\ttotal: 14.9s\tremaining: 48.9s\n",
            "70:\tlearn: 0.0868442\ttotal: 15.1s\tremaining: 48.7s\n",
            "71:\tlearn: 0.0867559\ttotal: 15.3s\tremaining: 48.4s\n",
            "72:\tlearn: 0.0866541\ttotal: 15.6s\tremaining: 48.4s\n",
            "73:\tlearn: 0.0865704\ttotal: 15.7s\tremaining: 48.1s\n",
            "74:\tlearn: 0.0865012\ttotal: 16s\tremaining: 48s\n",
            "75:\tlearn: 0.0864327\ttotal: 16.2s\tremaining: 47.8s\n",
            "76:\tlearn: 0.0863717\ttotal: 16.4s\tremaining: 47.5s\n",
            "77:\tlearn: 0.0863125\ttotal: 16.7s\tremaining: 47.4s\n",
            "78:\tlearn: 0.0862592\ttotal: 16.9s\tremaining: 47.4s\n",
            "79:\tlearn: 0.0862242\ttotal: 17.1s\tremaining: 47.1s\n",
            "80:\tlearn: 0.0861834\ttotal: 17.3s\tremaining: 46.8s\n",
            "81:\tlearn: 0.0861277\ttotal: 17.6s\tremaining: 46.8s\n",
            "82:\tlearn: 0.0860649\ttotal: 17.8s\tremaining: 46.5s\n",
            "83:\tlearn: 0.0860369\ttotal: 18s\tremaining: 46.4s\n",
            "84:\tlearn: 0.0860198\ttotal: 18.3s\tremaining: 46.3s\n",
            "85:\tlearn: 0.0859640\ttotal: 18.5s\tremaining: 46s\n",
            "86:\tlearn: 0.0859037\ttotal: 18.7s\tremaining: 45.7s\n",
            "87:\tlearn: 0.0858536\ttotal: 18.9s\tremaining: 45.5s\n",
            "88:\tlearn: 0.0858073\ttotal: 19s\tremaining: 45.1s\n",
            "89:\tlearn: 0.0857389\ttotal: 19.2s\tremaining: 44.8s\n",
            "90:\tlearn: 0.0856452\ttotal: 19.4s\tremaining: 44.6s\n",
            "91:\tlearn: 0.0855507\ttotal: 19.7s\tremaining: 44.5s\n",
            "92:\tlearn: 0.0855062\ttotal: 19.9s\tremaining: 44.3s\n",
            "93:\tlearn: 0.0854442\ttotal: 20.1s\tremaining: 44.1s\n",
            "94:\tlearn: 0.0853913\ttotal: 20.3s\tremaining: 43.9s\n",
            "95:\tlearn: 0.0853147\ttotal: 20.6s\tremaining: 43.7s\n",
            "96:\tlearn: 0.0852437\ttotal: 20.8s\tremaining: 43.5s\n",
            "97:\tlearn: 0.0851812\ttotal: 21s\tremaining: 43.3s\n",
            "98:\tlearn: 0.0850552\ttotal: 21.3s\tremaining: 43.2s\n",
            "99:\tlearn: 0.0850049\ttotal: 21.5s\tremaining: 42.9s\n",
            "100:\tlearn: 0.0849409\ttotal: 21.7s\tremaining: 42.7s\n",
            "101:\tlearn: 0.0848964\ttotal: 21.8s\tremaining: 42.3s\n",
            "102:\tlearn: 0.0848255\ttotal: 22.1s\tremaining: 42.3s\n",
            "103:\tlearn: 0.0847743\ttotal: 22.3s\tremaining: 42s\n",
            "104:\tlearn: 0.0847127\ttotal: 22.5s\tremaining: 41.8s\n",
            "105:\tlearn: 0.0846333\ttotal: 22.7s\tremaining: 41.6s\n",
            "106:\tlearn: 0.0845870\ttotal: 22.9s\tremaining: 41.4s\n",
            "107:\tlearn: 0.0845463\ttotal: 23.1s\tremaining: 41.2s\n",
            "108:\tlearn: 0.0844834\ttotal: 23.3s\tremaining: 40.9s\n",
            "109:\tlearn: 0.0844572\ttotal: 23.5s\tremaining: 40.7s\n",
            "110:\tlearn: 0.0844022\ttotal: 23.7s\tremaining: 40.4s\n",
            "111:\tlearn: 0.0843590\ttotal: 24s\tremaining: 40.2s\n",
            "112:\tlearn: 0.0843244\ttotal: 24.2s\tremaining: 40s\n",
            "113:\tlearn: 0.0842651\ttotal: 24.5s\tremaining: 39.9s\n",
            "114:\tlearn: 0.0842149\ttotal: 24.8s\tremaining: 39.9s\n",
            "115:\tlearn: 0.0841636\ttotal: 25.1s\tremaining: 39.9s\n",
            "116:\tlearn: 0.0840947\ttotal: 25.5s\tremaining: 39.9s\n",
            "117:\tlearn: 0.0840518\ttotal: 25.7s\tremaining: 39.6s\n",
            "118:\tlearn: 0.0839895\ttotal: 25.9s\tremaining: 39.4s\n",
            "119:\tlearn: 0.0839117\ttotal: 26.1s\tremaining: 39.2s\n",
            "120:\tlearn: 0.0838742\ttotal: 26.3s\tremaining: 38.9s\n",
            "121:\tlearn: 0.0838616\ttotal: 26.5s\tremaining: 38.6s\n",
            "122:\tlearn: 0.0837538\ttotal: 26.6s\tremaining: 38.3s\n",
            "123:\tlearn: 0.0836912\ttotal: 26.9s\tremaining: 38.1s\n",
            "124:\tlearn: 0.0836185\ttotal: 27.1s\tremaining: 38s\n",
            "125:\tlearn: 0.0835672\ttotal: 27.3s\tremaining: 37.7s\n",
            "126:\tlearn: 0.0835118\ttotal: 27.5s\tremaining: 37.4s\n",
            "127:\tlearn: 0.0834567\ttotal: 27.6s\tremaining: 37.1s\n",
            "128:\tlearn: 0.0834071\ttotal: 27.7s\tremaining: 36.7s\n",
            "129:\tlearn: 0.0833568\ttotal: 27.8s\tremaining: 36.3s\n",
            "130:\tlearn: 0.0832907\ttotal: 27.9s\tremaining: 35.9s\n",
            "131:\tlearn: 0.0832642\ttotal: 27.9s\tremaining: 35.5s\n",
            "132:\tlearn: 0.0832281\ttotal: 28s\tremaining: 35.2s\n",
            "133:\tlearn: 0.0831729\ttotal: 28.1s\tremaining: 34.8s\n",
            "134:\tlearn: 0.0831349\ttotal: 28.2s\tremaining: 34.4s\n",
            "135:\tlearn: 0.0830796\ttotal: 28.3s\tremaining: 34.1s\n",
            "136:\tlearn: 0.0830267\ttotal: 28.4s\tremaining: 33.7s\n",
            "137:\tlearn: 0.0829731\ttotal: 28.4s\tremaining: 33.4s\n",
            "138:\tlearn: 0.0829180\ttotal: 28.5s\tremaining: 33s\n",
            "139:\tlearn: 0.0828438\ttotal: 28.6s\tremaining: 32.7s\n",
            "140:\tlearn: 0.0827999\ttotal: 28.7s\tremaining: 32.4s\n",
            "141:\tlearn: 0.0826984\ttotal: 28.8s\tremaining: 32.1s\n",
            "142:\tlearn: 0.0826206\ttotal: 28.9s\tremaining: 31.7s\n",
            "143:\tlearn: 0.0825465\ttotal: 29s\tremaining: 31.4s\n",
            "144:\tlearn: 0.0824874\ttotal: 29.1s\tremaining: 31.1s\n",
            "145:\tlearn: 0.0824191\ttotal: 29.2s\tremaining: 30.8s\n",
            "146:\tlearn: 0.0823701\ttotal: 29.3s\tremaining: 30.5s\n",
            "147:\tlearn: 0.0823421\ttotal: 29.4s\tremaining: 30.2s\n",
            "148:\tlearn: 0.0822816\ttotal: 29.4s\tremaining: 29.8s\n",
            "149:\tlearn: 0.0822302\ttotal: 29.5s\tremaining: 29.5s\n",
            "150:\tlearn: 0.0821838\ttotal: 29.6s\tremaining: 29.2s\n",
            "151:\tlearn: 0.0821440\ttotal: 29.7s\tremaining: 28.9s\n",
            "152:\tlearn: 0.0821004\ttotal: 29.8s\tremaining: 28.6s\n",
            "153:\tlearn: 0.0820427\ttotal: 29.9s\tremaining: 28.4s\n",
            "154:\tlearn: 0.0819940\ttotal: 30s\tremaining: 28.1s\n",
            "155:\tlearn: 0.0819682\ttotal: 30.1s\tremaining: 27.8s\n",
            "156:\tlearn: 0.0818659\ttotal: 30.2s\tremaining: 27.5s\n",
            "157:\tlearn: 0.0818112\ttotal: 30.3s\tremaining: 27.2s\n",
            "158:\tlearn: 0.0817629\ttotal: 30.4s\tremaining: 26.9s\n",
            "159:\tlearn: 0.0817091\ttotal: 30.5s\tremaining: 26.6s\n",
            "160:\tlearn: 0.0816252\ttotal: 30.6s\tremaining: 26.4s\n",
            "161:\tlearn: 0.0815670\ttotal: 30.7s\tremaining: 26.1s\n",
            "162:\tlearn: 0.0815224\ttotal: 30.7s\tremaining: 25.8s\n",
            "163:\tlearn: 0.0814564\ttotal: 30.8s\tremaining: 25.6s\n",
            "164:\tlearn: 0.0813955\ttotal: 30.9s\tremaining: 25.3s\n",
            "165:\tlearn: 0.0813696\ttotal: 31s\tremaining: 25s\n",
            "166:\tlearn: 0.0813278\ttotal: 31.1s\tremaining: 24.7s\n",
            "167:\tlearn: 0.0812714\ttotal: 31.1s\tremaining: 24.5s\n",
            "168:\tlearn: 0.0812336\ttotal: 31.2s\tremaining: 24.2s\n",
            "169:\tlearn: 0.0811912\ttotal: 31.3s\tremaining: 24s\n",
            "170:\tlearn: 0.0811105\ttotal: 31.4s\tremaining: 23.7s\n",
            "171:\tlearn: 0.0810711\ttotal: 31.5s\tremaining: 23.5s\n",
            "172:\tlearn: 0.0810426\ttotal: 31.6s\tremaining: 23.2s\n",
            "173:\tlearn: 0.0809693\ttotal: 31.7s\tremaining: 23s\n",
            "174:\tlearn: 0.0808992\ttotal: 31.8s\tremaining: 22.7s\n",
            "175:\tlearn: 0.0808170\ttotal: 31.9s\tremaining: 22.5s\n",
            "176:\tlearn: 0.0807814\ttotal: 32s\tremaining: 22.2s\n",
            "177:\tlearn: 0.0807200\ttotal: 32.1s\tremaining: 22s\n",
            "178:\tlearn: 0.0806791\ttotal: 32.2s\tremaining: 21.7s\n",
            "179:\tlearn: 0.0806509\ttotal: 32.2s\tremaining: 21.5s\n",
            "180:\tlearn: 0.0805895\ttotal: 32.3s\tremaining: 21.2s\n",
            "181:\tlearn: 0.0805299\ttotal: 32.4s\tremaining: 21s\n",
            "182:\tlearn: 0.0804841\ttotal: 32.5s\tremaining: 20.8s\n",
            "183:\tlearn: 0.0804401\ttotal: 32.6s\tremaining: 20.5s\n",
            "184:\tlearn: 0.0804163\ttotal: 32.7s\tremaining: 20.3s\n",
            "185:\tlearn: 0.0803780\ttotal: 32.8s\tremaining: 20.1s\n",
            "186:\tlearn: 0.0803541\ttotal: 32.8s\tremaining: 19.8s\n",
            "187:\tlearn: 0.0803081\ttotal: 32.9s\tremaining: 19.6s\n",
            "188:\tlearn: 0.0802865\ttotal: 33s\tremaining: 19.4s\n",
            "189:\tlearn: 0.0802389\ttotal: 33.1s\tremaining: 19.2s\n",
            "190:\tlearn: 0.0802093\ttotal: 33.2s\tremaining: 18.9s\n",
            "191:\tlearn: 0.0801414\ttotal: 33.3s\tremaining: 18.7s\n",
            "192:\tlearn: 0.0800964\ttotal: 33.3s\tremaining: 18.5s\n",
            "193:\tlearn: 0.0800450\ttotal: 33.4s\tremaining: 18.3s\n",
            "194:\tlearn: 0.0799675\ttotal: 33.5s\tremaining: 18s\n",
            "195:\tlearn: 0.0799171\ttotal: 33.6s\tremaining: 17.8s\n",
            "196:\tlearn: 0.0798673\ttotal: 33.7s\tremaining: 17.6s\n",
            "197:\tlearn: 0.0798193\ttotal: 33.8s\tremaining: 17.4s\n",
            "198:\tlearn: 0.0797508\ttotal: 33.9s\tremaining: 17.2s\n",
            "199:\tlearn: 0.0796952\ttotal: 34s\tremaining: 17s\n",
            "200:\tlearn: 0.0796423\ttotal: 34s\tremaining: 16.8s\n",
            "201:\tlearn: 0.0795887\ttotal: 34.1s\tremaining: 16.6s\n",
            "202:\tlearn: 0.0795499\ttotal: 34.2s\tremaining: 16.4s\n",
            "203:\tlearn: 0.0795267\ttotal: 34.3s\tremaining: 16.1s\n",
            "204:\tlearn: 0.0794303\ttotal: 34.4s\tremaining: 15.9s\n",
            "205:\tlearn: 0.0793892\ttotal: 34.5s\tremaining: 15.7s\n",
            "206:\tlearn: 0.0793517\ttotal: 34.6s\tremaining: 15.5s\n",
            "207:\tlearn: 0.0793098\ttotal: 34.7s\tremaining: 15.3s\n",
            "208:\tlearn: 0.0792651\ttotal: 34.8s\tremaining: 15.1s\n",
            "209:\tlearn: 0.0792372\ttotal: 34.8s\tremaining: 14.9s\n",
            "210:\tlearn: 0.0791623\ttotal: 34.9s\tremaining: 14.7s\n",
            "211:\tlearn: 0.0791156\ttotal: 35s\tremaining: 14.5s\n",
            "212:\tlearn: 0.0790672\ttotal: 35.1s\tremaining: 14.3s\n",
            "213:\tlearn: 0.0790166\ttotal: 35.2s\tremaining: 14.1s\n",
            "214:\tlearn: 0.0789881\ttotal: 35.3s\tremaining: 14s\n",
            "215:\tlearn: 0.0789387\ttotal: 35.4s\tremaining: 13.8s\n",
            "216:\tlearn: 0.0789109\ttotal: 35.5s\tremaining: 13.6s\n",
            "217:\tlearn: 0.0788493\ttotal: 35.6s\tremaining: 13.4s\n",
            "218:\tlearn: 0.0788355\ttotal: 35.7s\tremaining: 13.2s\n",
            "219:\tlearn: 0.0787790\ttotal: 35.8s\tremaining: 13s\n",
            "220:\tlearn: 0.0787178\ttotal: 35.9s\tremaining: 12.8s\n",
            "221:\tlearn: 0.0786813\ttotal: 35.9s\tremaining: 12.6s\n",
            "222:\tlearn: 0.0786362\ttotal: 36s\tremaining: 12.4s\n",
            "223:\tlearn: 0.0785903\ttotal: 36.1s\tremaining: 12.3s\n",
            "224:\tlearn: 0.0784927\ttotal: 36.2s\tremaining: 12.1s\n",
            "225:\tlearn: 0.0784369\ttotal: 36.3s\tremaining: 11.9s\n",
            "226:\tlearn: 0.0783885\ttotal: 36.4s\tremaining: 11.7s\n",
            "227:\tlearn: 0.0783539\ttotal: 36.5s\tremaining: 11.5s\n",
            "228:\tlearn: 0.0782832\ttotal: 36.6s\tremaining: 11.3s\n",
            "229:\tlearn: 0.0782429\ttotal: 36.7s\tremaining: 11.2s\n",
            "230:\tlearn: 0.0781957\ttotal: 36.7s\tremaining: 11s\n",
            "231:\tlearn: 0.0781493\ttotal: 36.8s\tremaining: 10.8s\n",
            "232:\tlearn: 0.0781026\ttotal: 36.9s\tremaining: 10.6s\n",
            "233:\tlearn: 0.0780708\ttotal: 37s\tremaining: 10.4s\n",
            "234:\tlearn: 0.0780300\ttotal: 37.1s\tremaining: 10.3s\n",
            "235:\tlearn: 0.0779902\ttotal: 37.2s\tremaining: 10.1s\n",
            "236:\tlearn: 0.0779612\ttotal: 37.3s\tremaining: 9.92s\n",
            "237:\tlearn: 0.0779296\ttotal: 37.4s\tremaining: 9.74s\n",
            "238:\tlearn: 0.0778983\ttotal: 37.5s\tremaining: 9.56s\n",
            "239:\tlearn: 0.0778595\ttotal: 37.6s\tremaining: 9.39s\n",
            "240:\tlearn: 0.0778209\ttotal: 37.6s\tremaining: 9.22s\n",
            "241:\tlearn: 0.0777929\ttotal: 37.7s\tremaining: 9.04s\n",
            "242:\tlearn: 0.0777081\ttotal: 37.8s\tremaining: 8.88s\n",
            "243:\tlearn: 0.0776889\ttotal: 37.9s\tremaining: 8.7s\n",
            "244:\tlearn: 0.0776614\ttotal: 38s\tremaining: 8.53s\n",
            "245:\tlearn: 0.0776324\ttotal: 38.1s\tremaining: 8.36s\n",
            "246:\tlearn: 0.0776059\ttotal: 38.2s\tremaining: 8.19s\n",
            "247:\tlearn: 0.0775853\ttotal: 38.3s\tremaining: 8.02s\n",
            "248:\tlearn: 0.0775320\ttotal: 38.3s\tremaining: 7.85s\n",
            "249:\tlearn: 0.0774729\ttotal: 38.4s\tremaining: 7.69s\n",
            "250:\tlearn: 0.0774512\ttotal: 38.5s\tremaining: 7.52s\n",
            "251:\tlearn: 0.0774191\ttotal: 38.6s\tremaining: 7.35s\n",
            "252:\tlearn: 0.0773948\ttotal: 38.7s\tremaining: 7.18s\n",
            "253:\tlearn: 0.0773636\ttotal: 38.8s\tremaining: 7.02s\n",
            "254:\tlearn: 0.0773030\ttotal: 38.9s\tremaining: 6.86s\n",
            "255:\tlearn: 0.0772716\ttotal: 38.9s\tremaining: 6.69s\n",
            "256:\tlearn: 0.0772459\ttotal: 39s\tremaining: 6.53s\n",
            "257:\tlearn: 0.0772030\ttotal: 39.1s\tremaining: 6.37s\n",
            "258:\tlearn: 0.0771614\ttotal: 39.2s\tremaining: 6.21s\n",
            "259:\tlearn: 0.0771304\ttotal: 39.3s\tremaining: 6.04s\n",
            "260:\tlearn: 0.0770692\ttotal: 39.4s\tremaining: 5.88s\n",
            "261:\tlearn: 0.0770429\ttotal: 39.5s\tremaining: 5.72s\n",
            "262:\tlearn: 0.0770183\ttotal: 39.6s\tremaining: 5.57s\n",
            "263:\tlearn: 0.0769620\ttotal: 39.7s\tremaining: 5.41s\n",
            "264:\tlearn: 0.0768984\ttotal: 39.8s\tremaining: 5.25s\n",
            "265:\tlearn: 0.0768529\ttotal: 39.8s\tremaining: 5.09s\n",
            "266:\tlearn: 0.0767928\ttotal: 39.9s\tremaining: 4.94s\n",
            "267:\tlearn: 0.0767677\ttotal: 40s\tremaining: 4.78s\n",
            "268:\tlearn: 0.0767238\ttotal: 40.1s\tremaining: 4.62s\n",
            "269:\tlearn: 0.0766787\ttotal: 40.2s\tremaining: 4.47s\n",
            "270:\tlearn: 0.0766201\ttotal: 40.3s\tremaining: 4.31s\n",
            "271:\tlearn: 0.0766025\ttotal: 40.4s\tremaining: 4.16s\n",
            "272:\tlearn: 0.0765486\ttotal: 40.5s\tremaining: 4s\n",
            "273:\tlearn: 0.0765053\ttotal: 40.6s\tremaining: 3.85s\n",
            "274:\tlearn: 0.0764655\ttotal: 40.6s\tremaining: 3.69s\n",
            "275:\tlearn: 0.0764353\ttotal: 40.7s\tremaining: 3.54s\n",
            "276:\tlearn: 0.0763823\ttotal: 40.8s\tremaining: 3.39s\n",
            "277:\tlearn: 0.0763508\ttotal: 40.9s\tremaining: 3.24s\n",
            "278:\tlearn: 0.0763065\ttotal: 41s\tremaining: 3.09s\n",
            "279:\tlearn: 0.0762224\ttotal: 41.1s\tremaining: 2.94s\n",
            "280:\tlearn: 0.0761794\ttotal: 41.2s\tremaining: 2.78s\n",
            "281:\tlearn: 0.0761400\ttotal: 41.3s\tremaining: 2.63s\n",
            "282:\tlearn: 0.0760966\ttotal: 41.4s\tremaining: 2.48s\n",
            "283:\tlearn: 0.0760411\ttotal: 41.4s\tremaining: 2.33s\n",
            "284:\tlearn: 0.0759984\ttotal: 41.5s\tremaining: 2.19s\n",
            "285:\tlearn: 0.0759508\ttotal: 41.6s\tremaining: 2.04s\n",
            "286:\tlearn: 0.0759032\ttotal: 41.7s\tremaining: 1.89s\n",
            "287:\tlearn: 0.0758749\ttotal: 41.8s\tremaining: 1.74s\n",
            "288:\tlearn: 0.0758322\ttotal: 41.9s\tremaining: 1.59s\n",
            "289:\tlearn: 0.0757974\ttotal: 42s\tremaining: 1.45s\n",
            "290:\tlearn: 0.0757591\ttotal: 42.1s\tremaining: 1.3s\n",
            "291:\tlearn: 0.0757181\ttotal: 42.2s\tremaining: 1.16s\n",
            "292:\tlearn: 0.0756736\ttotal: 42.3s\tremaining: 1.01s\n",
            "293:\tlearn: 0.0756313\ttotal: 42.3s\tremaining: 864ms\n",
            "294:\tlearn: 0.0755738\ttotal: 42.4s\tremaining: 719ms\n",
            "295:\tlearn: 0.0755318\ttotal: 42.5s\tremaining: 575ms\n",
            "296:\tlearn: 0.0754660\ttotal: 42.6s\tremaining: 431ms\n",
            "297:\tlearn: 0.0754328\ttotal: 42.7s\tremaining: 287ms\n",
            "298:\tlearn: 0.0753792\ttotal: 42.8s\tremaining: 143ms\n",
            "299:\tlearn: 0.0753607\ttotal: 42.9s\tremaining: 0us\n"
          ]
        },
        {
          "output_type": "execute_result",
          "data": {
            "text/plain": [
              "array([[149238,    310],\n",
              "       [  3136,     82]])"
            ]
          },
          "metadata": {},
          "execution_count": 176
        }
      ]
    },
    {
      "cell_type": "code",
      "source": [
        "# Построить бустинг\n",
        "lgb_model = lgb.LGBMClassifier(n_estimators=500)\n",
        "lgb_model.fit(df2.drop(columns=['label']), df2['label'])\n",
        "\n",
        "# Оценка точности\n",
        "y_pred = lgb_model.predict(df_test.drop(columns=['label']))\n",
        "confusion_matrix(df_test['label'], y_pred)"
      ],
      "metadata": {
        "id": "Ah8OtYTeUs9X",
        "colab": {
          "base_uri": "https://localhost:8080/"
        },
        "outputId": "3854ba42-c714-4262-9820-7218a3342c20"
      },
      "execution_count": null,
      "outputs": [
        {
          "output_type": "execute_result",
          "data": {
            "text/plain": [
              "array([[149276,    272],\n",
              "       [  3146,     72]])"
            ]
          },
          "metadata": {},
          "execution_count": 177
        }
      ]
    },
    {
      "cell_type": "code",
      "source": [
        "# Ансамбль из двух моделей (catboost, lightgbm)\n",
        "cat_proba = cat_model.predict_proba(df_test.drop(columns=['label']))[:,1:]\n",
        "lgb_proba = lgb_model.predict_proba(df_test.drop(columns=['label']))[:,1:]\n",
        "ensemble_pred = np.mean(np.concatenate([cat_proba, lgb_proba], axis=1), axis=1).round()\n",
        "confusion_matrix(df_test['label'], ensemble_pred)"
      ],
      "metadata": {
        "colab": {
          "base_uri": "https://localhost:8080/"
        },
        "id": "ig6XrKbkNJuS",
        "outputId": "4cab18eb-729b-45eb-d0f9-368bf0b34dd3"
      },
      "execution_count": null,
      "outputs": [
        {
          "output_type": "execute_result",
          "data": {
            "text/plain": [
              "array([[149328,    220],\n",
              "       [  3157,     61]])"
            ]
          },
          "metadata": {},
          "execution_count": 178
        }
      ]
    },
    {
      "cell_type": "markdown",
      "source": [
        "### **Вариант 3 \"Машинное обучение\" (Никита) (не работает)**"
      ],
      "metadata": {
        "id": "yWJy06fatkoh"
      }
    },
    {
      "cell_type": "markdown",
      "source": [
        "`Получение имён столбцов`"
      ],
      "metadata": {
        "id": "5OwtRXr8CdFc"
      }
    },
    {
      "cell_type": "code",
      "source": [
        "# df_1 = pd.read_csv(gc_path+'train_df.csv')\n",
        " \n",
        "# list_of_column_names = list(df_1.columns)"
      ],
      "metadata": {
        "id": "FvcGb570CP8r"
      },
      "execution_count": null,
      "outputs": []
    },
    {
      "cell_type": "code",
      "source": [
        "# # Импорт пакетов проекта\n",
        "# import pandas as pd\n",
        "# import numpy as np\n",
        "# import tensorflow as tf\n",
        "# import sklearn.preprocessing as preprocessing\n",
        "# import sklearn.model_selection as model_selection\n",
        "# import matplotlib.pyplot as plt\n",
        "\n",
        "# # Чтение csv\n",
        "# tariff_df = pd.read_csv(r(gc_path+'train_df.csv'), delimiter=\";\", header=0, index_col='label')\n",
        "# tariff_df = tariff_df[['venue', 'config', 'surface', 'distance', 'going', 'race_class']]\n",
        "\n",
        "# # check to see if we have NaN, then drop NaN\n",
        "# print(tariff_df[tariff_df.isnull().any(axis=1)])\n",
        "# tariff_df = tariff_df.dropna()\n",
        "\n",
        "# # encode ordinal columns: config, going, \n",
        "# config_encoder = preprocessing.OrdinalEncoder()\n",
        "# tariff_df['config'] = config_encoder.fit_transform(tariff_df['config'].values.reshape(-1, 1))\n",
        "# going_encoder = preprocessing.OrdinalEncoder()\n",
        "# tariff_df['going'] = going_encoder.fit_transform(tariff_df['going'].values.reshape(-1, 1))\n",
        "\n",
        "# # encode nominal column: venue\n",
        "# venue_encoder = preprocessing.LabelEncoder()\n",
        "# tariff_df['venue'] = venue_encoder.fit_transform(tariff_df['venue'])"
      ],
      "metadata": {
        "id": "daxzUXJ1AFAC"
      },
      "execution_count": null,
      "outputs": []
    },
    {
      "cell_type": "markdown",
      "source": [
        "# **Матрицы ошибок**"
      ],
      "metadata": {
        "id": "i_gTmaJU_18_"
      }
    },
    {
      "cell_type": "markdown",
      "source": [
        "## **Feature importance (Тимофей)**"
      ],
      "metadata": {
        "id": "4T-YJ7Dkt0-8"
      }
    },
    {
      "cell_type": "code",
      "source": [
        "fig = plt.figure()\n",
        "ax = fig.add_axes([0,0,3,1])\n",
        "ax.bar(df2.drop(columns=['label']).columns, cat_model.feature_importances_)\n",
        "\n",
        "plt.show()\n",
        "# 'f4', 'f5', 'f7', 'f13', 'f14', 'f16', 'f23', 'f24', 'f26', 'f30'"
      ],
      "metadata": {
        "id": "2h6m49-ftOAY",
        "colab": {
          "base_uri": "https://localhost:8080/",
          "height": 337
        },
        "outputId": "4ec689de-b0e1-4044-89e0-f8a5ffa4b640"
      },
      "execution_count": null,
      "outputs": [
        {
          "output_type": "display_data",
          "data": {
            "text/plain": [
              "<Figure size 432x288 with 1 Axes>"
            ],
            "image/png": "[encoded data removed]"
          },
          "metadata": {
            "needs_background": "light"
          }
        }
      ]
    },
    {
      "cell_type": "code",
      "source": [
        "plt.plot(cat_model.get_evals_result()['learn']['Logloss'])"
      ],
      "metadata": {
        "id": "Emz8ibYZvy2e",
        "colab": {
          "base_uri": "https://localhost:8080/",
          "height": 282
        },
        "outputId": "bb87a6bc-a94b-4ba4-d3b1-115a1dd9419a"
      },
      "execution_count": null,
      "outputs": [
        {
          "output_type": "execute_result",
          "data": {
            "text/plain": [
              "[<matplotlib.lines.Line2D at 0x7f836e273d10>]"
            ]
          },
          "metadata": {},
          "execution_count": 182
        },
        {
          "output_type": "display_data",
          "data": {
            "text/plain": [
              "<Figure size 432x288 with 1 Axes>"
            ],
            "image/png": "[encoded data removed]"
          },
          "metadata": {
            "needs_background": "light"
          }
        }
      ]
    },
    {
      "cell_type": "markdown",
      "source": [
        "## **Таблица (не работает)**"
      ],
      "metadata": {
        "id": "RhxfdzMBn7Im"
      }
    },
    {
      "cell_type": "code",
      "source": [
        "# from sklearn.metrics import multilabel_confusion_matrix\n",
        "# vis_arr = multilabel_confusion_matrix(true_labels, preds)\n",
        "\n",
        "# labels = [\"\".join(\"\" + str(i)) for i in range(1, 16)]\n",
        "\n",
        "# import pandas as pd\n",
        "# import matplotlib.pyplot as plt\n",
        "# import seaborn as sns\n",
        "# vis_arr[7]"
      ],
      "metadata": {
        "id": "ILsZdDeioCQ-"
      },
      "execution_count": null,
      "outputs": []
    },
    {
      "cell_type": "code",
      "source": [
        "# from sklearn.metrics import multilabel_confusion_matrix\n",
        "# vis_arr = multilabel_confusion_matrix(true_labels, preds)\n",
        "\n",
        "# labels = [\"\".join(\"\" + str(i)) for i in range(1, 16)]\n",
        "\n",
        "# import pandas as pd\n",
        "# import matplotlib.pyplot as plt\n",
        "# import seaborn as sns\n",
        "\n",
        "\n",
        "# def print_confusion_matrix(confusion_matrix, axes, class_label, class_names, fontsize=18):\n",
        "\n",
        "#     df_cm = pd.DataFrame(\n",
        "#         confusion_matrix, index=class_names, columns=class_names,\n",
        "#     )\n",
        "\n",
        "#     try:\n",
        "#         heatmap = sns.heatmap(df_cm, annot=True, fmt=\"d\", cbar=False, ax=axes)\n",
        "#         sns.set(font_scale = 1.6)\n",
        "#     except ValueError:\n",
        "#         raise ValueError(\"Confusion matrix values must be integers.\")\n",
        "#     heatmap.yaxis.set_ticklabels(heatmap.yaxis.get_ticklabels(), rotation=0, ha='right', fontsize=fontsize)\n",
        "#     heatmap.xaxis.set_ticklabels(heatmap.xaxis.get_ticklabels(), rotation=45, ha='right', fontsize=fontsize)\n",
        "#     axes.set_ylabel('True class', fontsize=fontsize)\n",
        "#     axes.set_xlabel('Predicted class', fontsize=fontsize)\n",
        "#     axes.set_title(\"class_\" + class_label, fontsize=fontsize)\n",
        "  \n",
        "\n",
        "# fig, ax = plt.subplots(15,1,figsize=(4, 15))\n",
        "# for axes, cfs_matrix, label in zip(ax.flatten(), vis_arr[0:15], labels[0:15]):\n",
        "#     print_confusion_matrix(cfs_matrix, axes, label, [\"False\", \"True\"])\n",
        "# fig.subplots_adjust(left=None, bottom=1, right=None, top=3, wspace=None, hspace=2)\n",
        "# fig.tight_layout()\n",
        "# plt.show()"
      ],
      "metadata": {
        "id": "YfcArb4XoFTq"
      },
      "execution_count": null,
      "outputs": []
    },
    {
      "cell_type": "markdown",
      "source": [
        "## **Дерево (не работает)**"
      ],
      "metadata": {
        "id": "8bJ_JVrdoMfd"
      }
    },
    {
      "cell_type": "code",
      "source": [
        "# import matplotlib.pyplot as plt\n",
        "# import numpy as np; np.random.seed(42)\n",
        "# from sklearn.ensemble import RandomForestClassifier, BaggingClassifier\n",
        "# from sklearn.tree import DecisionTreeClassifier\n",
        "# from sklearn.datasets import make_circles # Make a large circle containing a smaller circle in 2d (toy dataset)\n",
        "# from sklearn.model_selection import train_test_split\n",
        "# plt.style.use('ggplot')\n",
        "# plt.rcParams['figure.figsize'] = 10, 6\n",
        "\n",
        "# # X - координаты центров кругов, y={0;1} - метки классов -> бинарная классификция\n",
        "# X, y = make_circles(n_samples=500, factor=0.1, noise=0.35, random_state=42)\n",
        "# X_train_circles, X_test_circles, y_train_circles, y_test_circles = train_test_split(X, y, test_size=0.2)\n",
        "\n",
        "# dtree = DecisionTreeClassifier(random_state=42)\n",
        "# dtree.fit(X_train_circles, y_train_circles)\n",
        "\n",
        "# # Получаем новые центры кругов\n",
        "# x_range = np.linspace(X.min(), X.max(), 100)\n",
        "# xx1, xx2 = np.meshgrid(x_range, x_range) # xx1.shape=(100,100), xx2.shape=(100,100)\n",
        "\n",
        "# # Классифицируем круги\n",
        "# y_hat = dtree.predict(np.c_[xx1.ravel(), xx2.ravel()]) # y_hat.shape = 10000\n",
        "# y_hat = y_hat.reshape(xx1.shape) # y_hat.shape = (100, 100)\n",
        "\n",
        "# # Отрисовка кругов\n",
        "# plt.contourf(xx1, xx2, y_hat, alpha=0.2) # Отрисовать область, разграничивающую два класса\n",
        "# plt.scatter(X[:,0], X[:,1], c=y, cmap='autumn') # Отрисовать круги\n",
        "# plt.title(\"Дерево решений\")\n",
        "# plt.show()\n",
        "\n",
        "# b_dtree = BaggingClassifier(DecisionTreeClassifier(),n_estimators=300, random_state=42)\n",
        "# b_dtree.fit(X_train_circles, y_train_circles)\n",
        "\n",
        "# x_range = np.linspace(X.min(), X.max(), 100)\n",
        "# xx1, xx2 = np.meshgrid(x_range, x_range)\n",
        "# y_hat = b_dtree.predict(np.c_[xx1.ravel(), xx2.ravel()])\n",
        "# y_hat = y_hat.reshape(xx1.shape)\n",
        "# plt.contourf(xx1, xx2, y_hat, alpha=0.2)\n",
        "# plt.scatter(X[:,0], X[:,1], c=y, cmap='autumn')\n",
        "# plt.title(\"Бэггинг(дерево решений)\")\n",
        "# plt.show()\n",
        "\n",
        "# rf = RandomForestClassifier(n_estimators=300, random_state=42)\n",
        "# rf.fit(X_train_circles, y_train_circles)\n",
        "\n",
        "# x_range = np.linspace(X.min(), X.max(), 100)\n",
        "# xx1, xx2 = np.meshgrid(x_range, x_range)\n",
        "# y_hat = rf.predict(np.c_[xx1.ravel(), xx2.ravel()])\n",
        "# y_hat = y_hat.reshape(xx1.shape)\n",
        "# plt.contourf(xx1, xx2, y_hat, alpha=0.2)\n",
        "# plt.scatter(X[:,0], X[:,1], c=y, cmap='autumn')\n",
        "# plt.title(\"Случайный лес\")\n",
        "# plt.show()"
      ],
      "metadata": {
        "id": "m4aMVKBeoInM"
      },
      "execution_count": null,
      "outputs": []
    },
    {
      "cell_type": "markdown",
      "source": [
        "# **Результат обучения (Тимофей)**"
      ],
      "metadata": {
        "id": "_C3paxylomRv"
      }
    },
    {
      "cell_type": "code",
      "source": [
        "df_test_final = pd.read_csv(gc_path+'тестовый_датасет/test dataset.csv', sep=';')\n",
        "df_test_final = df_test_final.drop(columns=['period', 'subject_type', 'subject_name', 'city_name']).fillna(0)\n",
        "df_test_final['hex'] = df_test_final['hex'].apply(b16)"
      ],
      "metadata": {
        "id": "ZhxD78Pzd63m"
      },
      "execution_count": null,
      "outputs": []
    },
    {
      "cell_type": "code",
      "source": [
        "cat_proba = cat_model.predict_proba(df_test_final.drop(columns=['label', 'id']))[:,1:]\n",
        "lgb_proba = lgb_model.predict_proba(df_test_final.drop(columns=['label','id']))[:,1:]\n",
        "ensemble_pred_final = np.mean(np.concatenate([cat_proba, lgb_proba], axis=1), axis=1)"
      ],
      "metadata": {
        "id": "qhShxz9kd7u0"
      },
      "execution_count": null,
      "outputs": []
    },
    {
      "cell_type": "code",
      "source": [
        "client_pred_data = pd.concat([pd.Series(ensemble_pred_final), df_test_final['id']], axis=1)\n",
        "client_pred_data = client_pred_data.sort_values(by=[0], ascending=False).reset_index().drop(columns=['index'])\n",
        "client_pred_data = client_pred_data[(client_pred_data.index < np.percentile(client_pred_data.index, 5))]\n",
        "client_pred_data = client_pred_data.rename(columns={0: \"label\"})\n",
        "client_pred_data"
      ],
      "metadata": {
        "colab": {
          "base_uri": "https://localhost:8080/",
          "height": 424
        },
        "id": "bpH0CON2d8as",
        "outputId": "65cb8e73-dbdf-485e-b4f2-02099a2e673c"
      },
      "execution_count": null,
      "outputs": [
        {
          "output_type": "execute_result",
          "data": {
            "text/plain": [
              "         label      id\n",
              "0     0.940769   52505\n",
              "1     0.911934   55388\n",
              "2     0.899573   51559\n",
              "3     0.890642    1082\n",
              "4     0.887004    1208\n",
              "...        ...     ...\n",
              "7585  0.080910  142377\n",
              "7586  0.080901  125320\n",
              "7587  0.080900   54463\n",
              "7588  0.080896   11135\n",
              "7589  0.080895  127765\n",
              "\n",
              "[7590 rows x 2 columns]"
            ],
            "text/html": [
              "\n",
              "  <div id=\"df-62496d9f-f695-49da-8e6a-81ed85045331\">\n",
              "    <div class=\"colab-df-container\">\n",
              "      <div>\n",
              "<style scoped>\n",
              "    .dataframe tbody tr th:only-of-type {\n",
              "        vertical-align: middle;\n",
              "    }\n",
              "\n",
              "    .dataframe tbody tr th {\n",
              "        vertical-align: top;\n",
              "    }\n",
              "\n",
              "    .dataframe thead th {\n",
              "        text-align: right;\n",
              "    }\n",
              "</style>\n",
              "<table border=\"1\" class=\"dataframe\">\n",
              "  <thead>\n",
              "    <tr style=\"text-align: right;\">\n",
              "      <th></th>\n",
              "      <th>label</th>\n",
              "      <th>id</th>\n",
              "    </tr>\n",
              "  </thead>\n",
              "  <tbody>\n",
              "    <tr>\n",
              "      <th>0</th>\n",
              "      <td>0.940769</td>\n",
              "      <td>52505</td>\n",
              "    </tr>\n",
              "    <tr>\n",
              "      <th>1</th>\n",
              "      <td>0.911934</td>\n",
              "      <td>55388</td>\n",
              "    </tr>\n",
              "    <tr>\n",
              "      <th>2</th>\n",
              "      <td>0.899573</td>\n",
              "      <td>51559</td>\n",
              "    </tr>\n",
              "    <tr>\n",
              "      <th>3</th>\n",
              "      <td>0.890642</td>\n",
              "      <td>1082</td>\n",
              "    </tr>\n",
              "    <tr>\n",
              "      <th>4</th>\n",
              "      <td>0.887004</td>\n",
              "      <td>1208</td>\n",
              "    </tr>\n",
              "    <tr>\n",
              "      <th>...</th>\n",
              "      <td>...</td>\n",
              "      <td>...</td>\n",
              "    </tr>\n",
              "    <tr>\n",
              "      <th>7585</th>\n",
              "      <td>0.080910</td>\n",
              "      <td>142377</td>\n",
              "    </tr>\n",
              "    <tr>\n",
              "      <th>7586</th>\n",
              "      <td>0.080901</td>\n",
              "      <td>125320</td>\n",
              "    </tr>\n",
              "    <tr>\n",
              "      <th>7587</th>\n",
              "      <td>0.080900</td>\n",
              "      <td>54463</td>\n",
              "    </tr>\n",
              "    <tr>\n",
              "      <th>7588</th>\n",
              "      <td>0.080896</td>\n",
              "      <td>11135</td>\n",
              "    </tr>\n",
              "    <tr>\n",
              "      <th>7589</th>\n",
              "      <td>0.080895</td>\n",
              "      <td>127765</td>\n",
              "    </tr>\n",
              "  </tbody>\n",
              "</table>\n",
              "<p>7590 rows × 2 columns</p>\n",
              "</div>\n",
              "      <button class=\"colab-df-convert\" onclick=\"convertToInteractive('df-62496d9f-f695-49da-8e6a-81ed85045331')\"\n",
              "              title=\"Convert this dataframe to an interactive table.\"\n",
              "              style=\"display:none;\">\n",
              "        \n",
              "  <svg xmlns=\"http://www.w3.org/2000/svg\" height=\"24px\"viewBox=\"0 0 24 24\"\n",
              "       width=\"24px\">\n",
              "    <path d=\"M0 0h24v24H0V0z\" fill=\"none\"/>\n",
              "    <path d=\"M18.56 5.44l.94 2.06.94-2.06 2.06-.94-2.06-.94-.94-2.06-.94 2.06-2.06.94zm-11 1L8.5 8.5l.94-2.06 2.06-.94-2.06-.94L8.5 2.5l-.94 2.06-2.06.94zm10 10l.94 2.06.94-2.06 2.06-.94-2.06-.94-.94-2.06-.94 2.06-2.06.94z\"/><path d=\"M17.41 7.96l-1.37-1.37c-.4-.4-.92-.59-1.43-.59-.52 0-1.04.2-1.43.59L10.3 9.45l-7.72 7.72c-.78.78-.78 2.05 0 2.83L4 21.41c.39.39.9.59 1.41.59.51 0 1.02-.2 1.41-.59l7.78-7.78 2.81-2.81c.8-.78.8-2.07 0-2.86zM5.41 20L4 18.59l7.72-7.72 1.47 1.35L5.41 20z\"/>\n",
              "  </svg>\n",
              "      </button>\n",
              "      \n",
              "  <style>\n",
              "    .colab-df-container {\n",
              "      display:flex;\n",
              "      flex-wrap:wrap;\n",
              "      gap: 12px;\n",
              "    }\n",
              "\n",
              "    .colab-df-convert {\n",
              "      background-color: #E8F0FE;\n",
              "      border: none;\n",
              "      border-radius: 50%;\n",
              "      cursor: pointer;\n",
              "      display: none;\n",
              "      fill: #1967D2;\n",
              "      height: 32px;\n",
              "      padding: 0 0 0 0;\n",
              "      width: 32px;\n",
              "    }\n",
              "\n",
              "    .colab-df-convert:hover {\n",
              "      background-color: #E2EBFA;\n",
              "      box-shadow: 0px 1px 2px rgba(60, 64, 67, 0.3), 0px 1px 3px 1px rgba(60, 64, 67, 0.15);\n",
              "      fill: #174EA6;\n",
              "    }\n",
              "\n",
              "    [theme=dark] .colab-df-convert {\n",
              "      background-color: #3B4455;\n",
              "      fill: #D2E3FC;\n",
              "    }\n",
              "\n",
              "    [theme=dark] .colab-df-convert:hover {\n",
              "      background-color: #434B5C;\n",
              "      box-shadow: 0px 1px 3px 1px rgba(0, 0, 0, 0.15);\n",
              "      filter: drop-shadow(0px 1px 2px rgba(0, 0, 0, 0.3));\n",
              "      fill: #FFFFFF;\n",
              "    }\n",
              "  </style>\n",
              "\n",
              "      <script>\n",
              "        const buttonEl =\n",
              "          document.querySelector('#df-62496d9f-f695-49da-8e6a-81ed85045331 button.colab-df-convert');\n",
              "        buttonEl.style.display =\n",
              "          google.colab.kernel.accessAllowed ? 'block' : 'none';\n",
              "\n",
              "        async function convertToInteractive(key) {\n",
              "          const element = document.querySelector('#df-62496d9f-f695-49da-8e6a-81ed85045331');\n",
              "          const dataTable =\n",
              "            await google.colab.kernel.invokeFunction('convertToInteractive',\n",
              "                                                     [key], {});\n",
              "          if (!dataTable) return;\n",
              "\n",
              "          const docLinkHtml = 'Like what you see? Visit the ' +\n",
              "            '<a target=\"_blank\" href=https://colab.research.google.com/notebooks/data_table.ipynb>data table notebook</a>'\n",
              "            + ' to learn more about interactive tables.';\n",
              "          element.innerHTML = '';\n",
              "          dataTable['output_type'] = 'display_data';\n",
              "          await google.colab.output.renderOutput(dataTable, element);\n",
              "          const docLink = document.createElement('div');\n",
              "          docLink.innerHTML = docLinkHtml;\n",
              "          element.appendChild(docLink);\n",
              "        }\n",
              "      </script>\n",
              "    </div>\n",
              "  </div>\n",
              "  "
            ]
          },
          "metadata": {},
          "execution_count": 188
        }
      ]
    },
    {
      "cell_type": "code",
      "source": [
        "client_pred_data.to_csv(gc_path + 'final_1.csv', index=False)"
      ],
      "metadata": {
        "id": "uUyXBSe7d9l0"
      },
      "execution_count": null,
      "outputs": []
    }
  ]
}