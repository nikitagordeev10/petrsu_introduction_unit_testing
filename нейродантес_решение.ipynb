{
  "nbformat": 4,
  "nbformat_minor": 0,
  "metadata": {
    "colab": {
      "name": "нейродантес_решение.ipynb",
      "provenance": [],
      "collapsed_sections": [
        "EW-QRlXN36To",
        "RhxfdzMBn7Im",
        "8bJ_JVrdoMfd"
      ],
      "include_colab_link": true
    },
    "kernelspec": {
      "name": "python3",
      "display_name": "Python 3"
    },
    "language_info": {
      "name": "python"
    }
  },
  "cells": [
    {
      "cell_type": "markdown",
      "metadata": {
        "id": "view-in-github",
        "colab_type": "text"
      },
      "source": [
        "<a href=\"https://colab.research.google.com/github/nikitagordeev10/8-1-course-university-introduction-unit-testing-lab-1/blob/main/%D0%BD%D0%B5%D0%B9%D1%80%D0%BE%D0%B4%D0%B0%D0%BD%D1%82%D0%B5%D1%81_%D1%80%D0%B5%D1%88%D0%B5%D0%BD%D0%B8%D0%B5.ipynb\" target=\"_parent\"><img src=\"https://colab.research.google.com/assets/colab-badge.svg\" alt=\"Open In Colab\"/></a>"
      ]
    },
    {
      "cell_type": "markdown",
      "source": [
        "# **Импорт библиотек**"
      ],
      "metadata": {
        "id": "Eo9vphZBnsbe"
      }
    },
    {
      "cell_type": "code",
      "source": [
        "import numpy as np\n",
        "import pandas as pd\n",
        "import re\n",
        "import random\n",
        "!pip install pymorphy2\n",
        "import pymorphy2\n",
        "import dill\n",
        "\n",
        "import matplotlib.pyplot as plt\n",
        "import matplotlib.lines as lines\n",
        "import matplotlib.text as text\n",
        "import matplotlib.cm as cm\n",
        "\n",
        "from sklearn.feature_extraction.text import TfidfVectorizer\n",
        "from sklearn.metrics import classification_report, confusion_matrix, accuracy_score\n",
        "from sklearn.model_selection import train_test_split\n",
        "from sklearn.model_selection import GridSearchCV\n",
        "import sklearn.metrics as metrics\n",
        "from sklearn.svm import SVC\n",
        "from sklearn.metrics import accuracy_score\n",
        "\n",
        "!pip install catboost\n",
        "from catboost import CatBoostClassifier, Pool\n",
        "\n",
        "!pip install category_encoders\n",
        "from category_encoders.binary import BinaryEncoder"
      ],
      "metadata": {
        "id": "XFy510QenrhF"
      },
      "execution_count": null,
      "outputs": []
    },
    {
      "cell_type": "markdown",
      "source": [
        "# **Подключение Google Диска (Тимофей)**"
      ],
      "metadata": {
        "id": "u2rOdwbl3pnn"
      }
    },
    {
      "cell_type": "code",
      "execution_count": null,
      "metadata": {
        "colab": {
          "base_uri": "https://localhost:8080/"
        },
        "id": "7NEhrXaFYF_d",
        "outputId": "eb8c7bd7-6ea5-497f-bc6e-29e7734139d6"
      },
      "outputs": [
        {
          "output_type": "stream",
          "name": "stdout",
          "text": [
            "Drive already mounted at /content/gdrive; to attempt to forcibly remount, call drive.mount(\"/content/gdrive\", force_remount=True).\n"
          ]
        }
      ],
      "source": [
        "from google.colab import drive\n",
        "drive.mount('/content/gdrive')\n",
        "\n",
        "# Исправьте путь до папки на вашем гугл диске:\n",
        "gc_path = r\"/content/gdrive/MyDrive/НейроДантес/\""
      ]
    },
    {
      "cell_type": "markdown",
      "source": [
        "# **Очистка данных (не работает)**"
      ],
      "metadata": {
        "id": "EW-QRlXN36To"
      }
    },
    {
      "cell_type": "code",
      "source": [
        "df = pd.read_csv(gc_path+'train.csv', on_bad_lines='skip', sep=';')"
      ],
      "metadata": {
        "id": "_MFwyqHKZA0p"
      },
      "execution_count": null,
      "outputs": []
    },
    {
      "cell_type": "markdown",
      "source": [
        "## **\"subject_type\" (Никита)**"
      ],
      "metadata": {
        "id": "mrjPr8c18amY"
      }
    },
    {
      "cell_type": "code",
      "source": [
        "# def clean_subject_type(*args, **kwargs):\n",
        "#   tbl_sb = pd.Series(df.subject_type)\n",
        "#   selected = pd.get_dummies(tbl_sb)\n",
        "\n",
        "#   del df['subject_type']\n",
        "#   df = pd.concat([df, selected], axis=1)\n",
        "#   return df"
      ],
      "metadata": {
        "id": "-xWSZUxt8r7E"
      },
      "execution_count": null,
      "outputs": []
    },
    {
      "cell_type": "markdown",
      "source": [
        "## **\"period\" (Артём)**"
      ],
      "metadata": {
        "id": "hOP0vZa89BrA"
      }
    },
    {
      "cell_type": "code",
      "source": [
        "# def clean_period(*args, **kwargs):\n",
        "#   tbl_period = pd.Series(df.period)\n",
        "#   pd.get_dummies(tbl_period)"
      ],
      "metadata": {
        "id": "fizxFrHe9hLN"
      },
      "execution_count": null,
      "outputs": []
    },
    {
      "cell_type": "code",
      "source": [
        "  # for i in range(12):\n",
        "  #   i = i+1\n",
        "  #   if (i < 10):\n",
        "  #     i = f'0{i}'\n",
        "  #   df = df.replace({'period' : { f'2020-{i}-01' : int(i)}})\n",
        "\n",
        "\n",
        "  # s = pd.Series(df.period)\n",
        "  # k = pd.get_dummies(s)\n",
        "\n",
        "  # column_list = []\n",
        "  # i_list = []\n",
        "\n",
        "  # for column in k:\n",
        "  #   column_list.append(int(column))\n",
        "    \n",
        "  # for j in range(12):\n",
        "  #   i_list.append(j+1)\n",
        "\n",
        "  # result=list(set(i_list) - set(column_list))\n",
        "  # result.reverse()\n",
        "\n",
        "  # for i in result:\n",
        "  #   k.insert(0, i, 0)\n",
        "\n",
        "  # del df['period']\n",
        "  # df = pd.concat([df, k], axis=1)"
      ],
      "metadata": {
        "id": "PeY4rtcM9kOt"
      },
      "execution_count": null,
      "outputs": []
    },
    {
      "cell_type": "markdown",
      "source": [
        "## **\"hex\" (Тимофей)**"
      ],
      "metadata": {
        "id": "KaEtzmcN8j0h"
      }
    },
    {
      "cell_type": "markdown",
      "source": [
        "`hex из 16сс в 10сс`"
      ],
      "metadata": {
        "id": "jWno3kmn6lDT"
      }
    },
    {
      "cell_type": "code",
      "source": [
        "# def clean_hex(*args, **kwargs):\n",
        "#   b16 = lambda x: int(x,16)\n",
        "#   df['hex'] = df['hex'].apply(b16)"
      ],
      "metadata": {
        "id": "lHP9BMHKEj86"
      },
      "execution_count": null,
      "outputs": []
    },
    {
      "cell_type": "markdown",
      "source": [
        "## **\"subject_name\" (Никита)**"
      ],
      "metadata": {
        "id": "6yzpDcRYAYG_"
      }
    },
    {
      "cell_type": "code",
      "source": [
        "# def clean_subject_name(*args, **kwargs):\n",
        "#   data = pd.DataFrame(df.subject_name)\n",
        "\n",
        "#   bn = BinaryEncoder(df.subject_name)\n",
        "#   data_subject_name = bn.fit_transform(data.values)"
      ],
      "metadata": {
        "id": "zw3-JtCOJP0v"
      },
      "execution_count": null,
      "outputs": []
    },
    {
      "cell_type": "code",
      "source": [
        "  # data_subject_name"
      ],
      "metadata": {
        "id": "aXmZqmrDSvdy"
      },
      "execution_count": null,
      "outputs": []
    },
    {
      "cell_type": "code",
      "source": [
        "  # total_cols=len(data_subject_name.axes[1]) \n",
        "  # total_cols"
      ],
      "metadata": {
        "id": "RDVXaMhHP0UU"
      },
      "execution_count": null,
      "outputs": []
    },
    {
      "cell_type": "code",
      "source": [
        "  # num_array = []\n",
        "  # for i in range (0, total_cols):\n",
        "  #   num_array.append(\"subject_name_\"+str(i))\n",
        "  # num_array"
      ],
      "metadata": {
        "id": "HGTLmLq1QSak"
      },
      "execution_count": null,
      "outputs": []
    },
    {
      "cell_type": "code",
      "source": [
        "  # data_subject_name.columns = num_array\n",
        "  # data_subject_name"
      ],
      "metadata": {
        "id": "Mkw67RCmQ7-5"
      },
      "execution_count": null,
      "outputs": []
    },
    {
      "cell_type": "code",
      "source": [
        "  # del df['subject_name']\n",
        "  # df = pd.concat([df, data_subject_name], axis=1, join='outer') "
      ],
      "metadata": {
        "id": "v7pW5iz6BMjU"
      },
      "execution_count": null,
      "outputs": []
    },
    {
      "cell_type": "code",
      "source": [
        "  # df"
      ],
      "metadata": {
        "id": "7Tbrtj4ARwkN"
      },
      "execution_count": null,
      "outputs": []
    },
    {
      "cell_type": "markdown",
      "source": [
        "## **\"city_name\" (Никита)**"
      ],
      "metadata": {
        "id": "pO-JTkscKmBv"
      }
    },
    {
      "cell_type": "code",
      "source": [
        "# def clean_city_name(*args, **kwargs):\n",
        "#   data = pd.DataFrame(df.city_name)\n",
        "\n",
        "#   bn = BinaryEncoder(df.city_name)\n",
        "#   data_city_name = bn.fit_transform(data.values)"
      ],
      "metadata": {
        "id": "6WNp2L69K5Iy"
      },
      "execution_count": null,
      "outputs": []
    },
    {
      "cell_type": "code",
      "source": [
        "  # del df['city_name']\n",
        "  # df = pd.concat([df, data_city_name], axis=1, join='outer') "
      ],
      "metadata": {
        "id": "g8L0fIw-K-rH"
      },
      "execution_count": null,
      "outputs": []
    },
    {
      "cell_type": "markdown",
      "source": [
        "# **Обработка данных (не работает)**"
      ],
      "metadata": {
        "id": "4PF7qty--Jbx"
      }
    },
    {
      "cell_type": "markdown",
      "source": [
        "`Подсчёт 0 и 1 в label`"
      ],
      "metadata": {
        "id": "WmLRf5rMlctQ"
      }
    },
    {
      "cell_type": "code",
      "source": [
        "# col = 'label'\n",
        "# dft = df.groupby([col])[col].count()\n",
        "# dft"
      ],
      "metadata": {
        "id": "T-phmmxlcsoC"
      },
      "execution_count": null,
      "outputs": []
    },
    {
      "cell_type": "code",
      "source": [
        "# total_rows=len(df.axes[0]) \n",
        "# total_cols=len(df.axes[1]) \n",
        "# print(\"Number of Rows: \"+str(total_rows))\n",
        "# print(\"Number of Columns: \"+str(total_cols))"
      ],
      "metadata": {
        "id": "IFB9Bb8C0XhW"
      },
      "execution_count": null,
      "outputs": []
    },
    {
      "cell_type": "markdown",
      "source": [
        "## **Дозаполнение пустых ячеек (Дмитрий)**"
      ],
      "metadata": {
        "id": "1VDOMS92kidB"
      }
    },
    {
      "cell_type": "markdown",
      "source": [
        "`Подставить в f наиболее часто встречающееся значение`"
      ],
      "metadata": {
        "id": "IYo5wXDTmFvE"
      }
    },
    {
      "cell_type": "code",
      "source": [
        "# def filling_empty_cells(*args, **kwargs):\n",
        "#   fPopular = pd.DataFrame({})\n",
        "#   i = 1\n",
        "#   while i < 31:\n",
        "#     collumn = 'f' + str(i)\n",
        "#     value = df.groupby([collumn])[collumn].count().sort_values(ascending=False).index[0]\n",
        "#     fPopular[collumn] = [value]\n",
        "#     i += 1"
      ],
      "metadata": {
        "id": "gMVOLCItlTAw"
      },
      "execution_count": null,
      "outputs": []
    },
    {
      "cell_type": "markdown",
      "source": [
        "`Тест с f заполненными наиболее часто встречающимися`"
      ],
      "metadata": {
        "id": "uJ8MTEOVmH7J"
      }
    },
    {
      "cell_type": "code",
      "source": [
        "  # for i in range(30):\n",
        "  #   i += 1\n",
        "  #   column = 'f' + str(i)\n",
        "  #   df.loc[(df[column] != pd.notna), column] = fPopular.iloc[0][column]"
      ],
      "metadata": {
        "id": "p1ds4od9l0mn"
      },
      "execution_count": null,
      "outputs": []
    },
    {
      "cell_type": "markdown",
      "source": [
        "Сохранение подготовленных тренировочных данных"
      ],
      "metadata": {
        "id": "1aFcnU0qAmUB"
      }
    },
    {
      "cell_type": "code",
      "source": [
        "# df.to_csv('train_df.csv', sep=';', encoding='utf-8')"
      ],
      "metadata": {
        "id": "NEQ6stI0AfVz"
      },
      "execution_count": null,
      "outputs": []
    },
    {
      "cell_type": "markdown",
      "source": [
        "# **Разработка классификатора, предсказывающего склонность клиента к покупке тарифа домашнего интернета «Игровой»**"
      ],
      "metadata": {
        "id": "FCHff3cG_bbA"
      }
    },
    {
      "cell_type": "markdown",
      "source": [
        "## **Обучение моделей**"
      ],
      "metadata": {
        "id": "BJ95fuGF_r6Q"
      }
    },
    {
      "cell_type": "markdown",
      "source": [
        "### **Вариант 1 \"TensorFlow Deep Neural Network\" (Никита) (не работает)**"
      ],
      "metadata": {
        "id": "j8pFj1vhrjoi"
      }
    },
    {
      "cell_type": "markdown",
      "source": [
        "`Проблема Tensorflow 1 is unsupported in Colab → не запустить tf.contrib...`"
      ],
      "metadata": {
        "id": "SyEzt0nr8wkU"
      }
    },
    {
      "cell_type": "code",
      "source": [
        "# from __future__ import absolute_import\n",
        "# from __future__ import division\n",
        "# from __future__ import print_function\n",
        "\n",
        "# import os\n",
        "# import urllib\n",
        "\n",
        "# import numpy as np\n",
        "\n",
        "# !pip install tensorflow==1.14\n",
        "# from __future__ import absolute_import\n",
        "# from __future__ import division\n",
        "# from __future__ import print_function\n",
        "\n",
        "# import os\n",
        "# import urllib\n",
        "\n",
        "# import numpy as np\n",
        "\n",
        "# !pip install tensorflow==1.14\n",
        "# import tensorflow.compat.v1 as tf"
      ],
      "metadata": {
        "id": "S6eD1-djplZt"
      },
      "execution_count": null,
      "outputs": []
    },
    {
      "cell_type": "code",
      "source": [
        "# # Наборы данных\n",
        "# TARIFF_TRAINING = (gc_path+'train.csv')\n",
        "# TARIFF_TEST = (gc_path+'test.csv')\n",
        "\n",
        "# # Загрузка наборов данных\n",
        "# training_set = tf.contrib.learn.datasets.base.load_csv_with_header(\n",
        "#     filename=TARIFF_TRAINING,\n",
        "#     target_dtype=np.int,\n",
        "#     features_dtype=np.float32)\n",
        "\n",
        "# test_set = tf.contrib.learn.datasets.base.load_csv_with_header(\n",
        "#     filename=TARIFF_TEST,\n",
        "#     target_dtype=np.int,\n",
        "#     features_dtype=np.float32)\n",
        "\n",
        "# # Укажите, что все функции имеют данные реального значения\n",
        "# feature_columns = [tf.contrib.layers.real_valued_column(\"\", dimension=total_cols)]\n",
        "\n",
        "# # Построить 3-х слойную DNN\n",
        "# classifier = tf.contrib.learn.DNNClassifier(feature_columns=feature_columns,\n",
        "#                                             hidden_units=[0,1],\n",
        "#                                             n_classes=2)\n",
        "# # Определите входные данные для обучения\n",
        "# def get_train_inputs():\n",
        "#   x = tf.constant(training_set.data)\n",
        "#   y = tf.constant(training_set.target)\n",
        "\n",
        "#   return x, y\n",
        "\n",
        "# # Подходящая модель\n",
        "# classifier.fit(input_fn=get_train_inputs, steps=2000)\n",
        "\n",
        "# # Определите тестовые входные данные\n",
        "# def get_test_inputs():\n",
        "#   x = tf.constant(test_set.data)\n",
        "#   y = tf.constant(test_set.target)\n",
        "\n",
        "#   return x, y\n",
        "\n",
        "# # Оценка точности\n",
        "# accuracy_score = classifier.evaluate(input_fn=get_test_inputs,\n",
        "#                                       steps=1)[\"accuracy\"]\n",
        "\n",
        "# print(\"\\nTest Accuracy: {0:f}\\n\".format(accuracy_score))\n",
        "\n",
        "# # # Классифицировать нового полоьзователя\n",
        "# # def new_samples():\n",
        "# #   return np.array([[6.4, 2.7, 5.6, 2.1]], dtype=np.float32)\n",
        "\n",
        "# # predictions = list(classifier.predict(input_fn=new_samples))\n",
        "\n",
        "# # print(\"Predicted class: {}\\n\".format(predictions))"
      ],
      "metadata": {
        "id": "r4IrW3h_qI_n"
      },
      "execution_count": null,
      "outputs": []
    },
    {
      "cell_type": "markdown",
      "source": [
        "### **Вариант 2: \"Анасамбли\" (Тимофей)**"
      ],
      "metadata": {
        "id": "eEE8NuNgry7j"
      }
    },
    {
      "cell_type": "markdown",
      "source": [
        "`Временный код`"
      ],
      "metadata": {
        "id": "KRLy8sbPcmC-"
      }
    },
    {
      "cell_type": "code",
      "source": [
        "b16 = lambda x: int(x,16)\n",
        "df['hex'] = df['hex'].apply(b16)\n",
        "\n",
        "df2 = df.drop(columns=['period', 'subject_type', 'subject_name', 'city_name']).fillna(0)"
      ],
      "metadata": {
        "colab": {
          "base_uri": "https://localhost:8080/",
          "height": 424
        },
        "id": "1vt3wybYckYp",
        "outputId": "2501b54f-d895-4dd0-c3bc-93d1a35e6ca0"
      },
      "execution_count": null,
      "outputs": [
        {
          "output_type": "execute_result",
          "data": {
            "text/plain": [
              "        label                 hex    hex_lat     hex_lon       f1       f2  \\\n",
              "0           1  603793132424790015  55.729458   37.516569  0.00101  0.00103   \n",
              "1           1  603793100078317567  55.975851   37.237085  0.00000  0.00027   \n",
              "2           1  603790331166588927  55.622721   37.695121  0.00339  0.00313   \n",
              "3           1  603793099944099839  55.941586   37.157487  0.00048  0.00054   \n",
              "4           1  603793126250774527  55.797494   37.676200  0.00164  0.00179   \n",
              "...       ...                 ...        ...         ...      ...      ...   \n",
              "294253      0  603848919486562303  48.364768  134.996232  0.00111  0.00100   \n",
              "294254      0  604351826736709631  43.309803  132.345989  0.00075  0.00065   \n",
              "294255      0  604305726168367103  43.057826  133.155582  0.00018  0.00014   \n",
              "294256      0  603870921261842431  52.908685  158.406443  0.00075  0.00138   \n",
              "294257      0  604306592409583615  48.379865  135.164808  0.00000  0.00003   \n",
              "\n",
              "             f3   f4   f5       f6  ...      f21      f22      f23      f24  \\\n",
              "0       0.00195  0.0  0.0  0.41452  ...  0.13027  0.00000  0.00000  0.00000   \n",
              "1       0.00053  0.0  0.0  0.41452  ...  0.08756  0.00000  0.00000  0.00000   \n",
              "2       0.00439  0.0  0.0  0.41452  ...  0.09243  0.00000  0.00000  0.11053   \n",
              "3       0.00055  0.0  0.0  0.41452  ...  0.10192  0.00000  0.00049  0.00000   \n",
              "4       0.00219  0.0  0.0  0.41452  ...  0.09620  0.00000  0.00000  0.14444   \n",
              "...         ...  ...  ...      ...  ...      ...      ...      ...      ...   \n",
              "294253  0.00110  0.0  0.0  0.15391  ...  0.41667  0.26667  0.00000  0.33929   \n",
              "294254  0.00076  0.0  0.0  0.00643  ...  0.42424  0.08333  0.00000  0.09449   \n",
              "294255  0.00016  0.0  0.0  0.00140  ...  0.20000  0.08333  0.00000  0.07547   \n",
              "294256  0.00119  0.0  0.0  0.08380  ...  0.31990  0.08768  0.00000  0.00000   \n",
              "294257  0.00007  0.0  0.0  0.00548  ...  0.21271  0.23481  0.00000  0.11508   \n",
              "\n",
              "            f25      f26      f27      f28      f29  f30  \n",
              "0       0.00000  0.00000  0.00000  0.00000  0.01737  0.0  \n",
              "1       0.00000  0.00000  0.00000  0.00000  0.01152  0.0  \n",
              "2       0.57895  0.00526  0.02105  0.00000  0.01540  0.0  \n",
              "3       0.00000  0.00000  0.00000  0.00000  0.01495  0.0  \n",
              "4       0.64444  0.01111  0.04444  0.01111  0.01266  0.0  \n",
              "...         ...      ...      ...      ...      ...  ...  \n",
              "294253  0.78571  0.00000  0.01786  0.03571  0.01667  0.0  \n",
              "294254  0.80315  0.00787  0.00000  0.05512  0.02273  0.0  \n",
              "294255  0.81132  0.00000  0.00000  0.01887  0.00000  0.0  \n",
              "294256  0.00000  0.00000  0.00000  0.00000  0.06398  0.0  \n",
              "294257  0.73016  0.01190  0.00397  0.02381  0.03867  0.0  \n",
              "\n",
              "[294258 rows x 34 columns]"
            ],
            "text/html": [
              "\n",
              "  <div id=\"df-5604de4f-76e4-41ac-b4c2-8813b6154ab6\">\n",
              "    <div class=\"colab-df-container\">\n",
              "      <div>\n",
              "<style scoped>\n",
              "    .dataframe tbody tr th:only-of-type {\n",
              "        vertical-align: middle;\n",
              "    }\n",
              "\n",
              "    .dataframe tbody tr th {\n",
              "        vertical-align: top;\n",
              "    }\n",
              "\n",
              "    .dataframe thead th {\n",
              "        text-align: right;\n",
              "    }\n",
              "</style>\n",
              "<table border=\"1\" class=\"dataframe\">\n",
              "  <thead>\n",
              "    <tr style=\"text-align: right;\">\n",
              "      <th></th>\n",
              "      <th>label</th>\n",
              "      <th>hex</th>\n",
              "      <th>hex_lat</th>\n",
              "      <th>hex_lon</th>\n",
              "      <th>f1</th>\n",
              "      <th>f2</th>\n",
              "      <th>f3</th>\n",
              "      <th>f4</th>\n",
              "      <th>f5</th>\n",
              "      <th>f6</th>\n",
              "      <th>...</th>\n",
              "      <th>f21</th>\n",
              "      <th>f22</th>\n",
              "      <th>f23</th>\n",
              "      <th>f24</th>\n",
              "      <th>f25</th>\n",
              "      <th>f26</th>\n",
              "      <th>f27</th>\n",
              "      <th>f28</th>\n",
              "      <th>f29</th>\n",
              "      <th>f30</th>\n",
              "    </tr>\n",
              "  </thead>\n",
              "  <tbody>\n",
              "    <tr>\n",
              "      <th>0</th>\n",
              "      <td>1</td>\n",
              "      <td>603793132424790015</td>\n",
              "      <td>55.729458</td>\n",
              "      <td>37.516569</td>\n",
              "      <td>0.00101</td>\n",
              "      <td>0.00103</td>\n",
              "      <td>0.00195</td>\n",
              "      <td>0.0</td>\n",
              "      <td>0.0</td>\n",
              "      <td>0.41452</td>\n",
              "      <td>...</td>\n",
              "      <td>0.13027</td>\n",
              "      <td>0.00000</td>\n",
              "      <td>0.00000</td>\n",
              "      <td>0.00000</td>\n",
              "      <td>0.00000</td>\n",
              "      <td>0.00000</td>\n",
              "      <td>0.00000</td>\n",
              "      <td>0.00000</td>\n",
              "      <td>0.01737</td>\n",
              "      <td>0.0</td>\n",
              "    </tr>\n",
              "    <tr>\n",
              "      <th>1</th>\n",
              "      <td>1</td>\n",
              "      <td>603793100078317567</td>\n",
              "      <td>55.975851</td>\n",
              "      <td>37.237085</td>\n",
              "      <td>0.00000</td>\n",
              "      <td>0.00027</td>\n",
              "      <td>0.00053</td>\n",
              "      <td>0.0</td>\n",
              "      <td>0.0</td>\n",
              "      <td>0.41452</td>\n",
              "      <td>...</td>\n",
              "      <td>0.08756</td>\n",
              "      <td>0.00000</td>\n",
              "      <td>0.00000</td>\n",
              "      <td>0.00000</td>\n",
              "      <td>0.00000</td>\n",
              "      <td>0.00000</td>\n",
              "      <td>0.00000</td>\n",
              "      <td>0.00000</td>\n",
              "      <td>0.01152</td>\n",
              "      <td>0.0</td>\n",
              "    </tr>\n",
              "    <tr>\n",
              "      <th>2</th>\n",
              "      <td>1</td>\n",
              "      <td>603790331166588927</td>\n",
              "      <td>55.622721</td>\n",
              "      <td>37.695121</td>\n",
              "      <td>0.00339</td>\n",
              "      <td>0.00313</td>\n",
              "      <td>0.00439</td>\n",
              "      <td>0.0</td>\n",
              "      <td>0.0</td>\n",
              "      <td>0.41452</td>\n",
              "      <td>...</td>\n",
              "      <td>0.09243</td>\n",
              "      <td>0.00000</td>\n",
              "      <td>0.00000</td>\n",
              "      <td>0.11053</td>\n",
              "      <td>0.57895</td>\n",
              "      <td>0.00526</td>\n",
              "      <td>0.02105</td>\n",
              "      <td>0.00000</td>\n",
              "      <td>0.01540</td>\n",
              "      <td>0.0</td>\n",
              "    </tr>\n",
              "    <tr>\n",
              "      <th>3</th>\n",
              "      <td>1</td>\n",
              "      <td>603793099944099839</td>\n",
              "      <td>55.941586</td>\n",
              "      <td>37.157487</td>\n",
              "      <td>0.00048</td>\n",
              "      <td>0.00054</td>\n",
              "      <td>0.00055</td>\n",
              "      <td>0.0</td>\n",
              "      <td>0.0</td>\n",
              "      <td>0.41452</td>\n",
              "      <td>...</td>\n",
              "      <td>0.10192</td>\n",
              "      <td>0.00000</td>\n",
              "      <td>0.00049</td>\n",
              "      <td>0.00000</td>\n",
              "      <td>0.00000</td>\n",
              "      <td>0.00000</td>\n",
              "      <td>0.00000</td>\n",
              "      <td>0.00000</td>\n",
              "      <td>0.01495</td>\n",
              "      <td>0.0</td>\n",
              "    </tr>\n",
              "    <tr>\n",
              "      <th>4</th>\n",
              "      <td>1</td>\n",
              "      <td>603793126250774527</td>\n",
              "      <td>55.797494</td>\n",
              "      <td>37.676200</td>\n",
              "      <td>0.00164</td>\n",
              "      <td>0.00179</td>\n",
              "      <td>0.00219</td>\n",
              "      <td>0.0</td>\n",
              "      <td>0.0</td>\n",
              "      <td>0.41452</td>\n",
              "      <td>...</td>\n",
              "      <td>0.09620</td>\n",
              "      <td>0.00000</td>\n",
              "      <td>0.00000</td>\n",
              "      <td>0.14444</td>\n",
              "      <td>0.64444</td>\n",
              "      <td>0.01111</td>\n",
              "      <td>0.04444</td>\n",
              "      <td>0.01111</td>\n",
              "      <td>0.01266</td>\n",
              "      <td>0.0</td>\n",
              "    </tr>\n",
              "    <tr>\n",
              "      <th>...</th>\n",
              "      <td>...</td>\n",
              "      <td>...</td>\n",
              "      <td>...</td>\n",
              "      <td>...</td>\n",
              "      <td>...</td>\n",
              "      <td>...</td>\n",
              "      <td>...</td>\n",
              "      <td>...</td>\n",
              "      <td>...</td>\n",
              "      <td>...</td>\n",
              "      <td>...</td>\n",
              "      <td>...</td>\n",
              "      <td>...</td>\n",
              "      <td>...</td>\n",
              "      <td>...</td>\n",
              "      <td>...</td>\n",
              "      <td>...</td>\n",
              "      <td>...</td>\n",
              "      <td>...</td>\n",
              "      <td>...</td>\n",
              "      <td>...</td>\n",
              "    </tr>\n",
              "    <tr>\n",
              "      <th>294253</th>\n",
              "      <td>0</td>\n",
              "      <td>603848919486562303</td>\n",
              "      <td>48.364768</td>\n",
              "      <td>134.996232</td>\n",
              "      <td>0.00111</td>\n",
              "      <td>0.00100</td>\n",
              "      <td>0.00110</td>\n",
              "      <td>0.0</td>\n",
              "      <td>0.0</td>\n",
              "      <td>0.15391</td>\n",
              "      <td>...</td>\n",
              "      <td>0.41667</td>\n",
              "      <td>0.26667</td>\n",
              "      <td>0.00000</td>\n",
              "      <td>0.33929</td>\n",
              "      <td>0.78571</td>\n",
              "      <td>0.00000</td>\n",
              "      <td>0.01786</td>\n",
              "      <td>0.03571</td>\n",
              "      <td>0.01667</td>\n",
              "      <td>0.0</td>\n",
              "    </tr>\n",
              "    <tr>\n",
              "      <th>294254</th>\n",
              "      <td>0</td>\n",
              "      <td>604351826736709631</td>\n",
              "      <td>43.309803</td>\n",
              "      <td>132.345989</td>\n",
              "      <td>0.00075</td>\n",
              "      <td>0.00065</td>\n",
              "      <td>0.00076</td>\n",
              "      <td>0.0</td>\n",
              "      <td>0.0</td>\n",
              "      <td>0.00643</td>\n",
              "      <td>...</td>\n",
              "      <td>0.42424</td>\n",
              "      <td>0.08333</td>\n",
              "      <td>0.00000</td>\n",
              "      <td>0.09449</td>\n",
              "      <td>0.80315</td>\n",
              "      <td>0.00787</td>\n",
              "      <td>0.00000</td>\n",
              "      <td>0.05512</td>\n",
              "      <td>0.02273</td>\n",
              "      <td>0.0</td>\n",
              "    </tr>\n",
              "    <tr>\n",
              "      <th>294255</th>\n",
              "      <td>0</td>\n",
              "      <td>604305726168367103</td>\n",
              "      <td>43.057826</td>\n",
              "      <td>133.155582</td>\n",
              "      <td>0.00018</td>\n",
              "      <td>0.00014</td>\n",
              "      <td>0.00016</td>\n",
              "      <td>0.0</td>\n",
              "      <td>0.0</td>\n",
              "      <td>0.00140</td>\n",
              "      <td>...</td>\n",
              "      <td>0.20000</td>\n",
              "      <td>0.08333</td>\n",
              "      <td>0.00000</td>\n",
              "      <td>0.07547</td>\n",
              "      <td>0.81132</td>\n",
              "      <td>0.00000</td>\n",
              "      <td>0.00000</td>\n",
              "      <td>0.01887</td>\n",
              "      <td>0.00000</td>\n",
              "      <td>0.0</td>\n",
              "    </tr>\n",
              "    <tr>\n",
              "      <th>294256</th>\n",
              "      <td>0</td>\n",
              "      <td>603870921261842431</td>\n",
              "      <td>52.908685</td>\n",
              "      <td>158.406443</td>\n",
              "      <td>0.00075</td>\n",
              "      <td>0.00138</td>\n",
              "      <td>0.00119</td>\n",
              "      <td>0.0</td>\n",
              "      <td>0.0</td>\n",
              "      <td>0.08380</td>\n",
              "      <td>...</td>\n",
              "      <td>0.31990</td>\n",
              "      <td>0.08768</td>\n",
              "      <td>0.00000</td>\n",
              "      <td>0.00000</td>\n",
              "      <td>0.00000</td>\n",
              "      <td>0.00000</td>\n",
              "      <td>0.00000</td>\n",
              "      <td>0.00000</td>\n",
              "      <td>0.06398</td>\n",
              "      <td>0.0</td>\n",
              "    </tr>\n",
              "    <tr>\n",
              "      <th>294257</th>\n",
              "      <td>0</td>\n",
              "      <td>604306592409583615</td>\n",
              "      <td>48.379865</td>\n",
              "      <td>135.164808</td>\n",
              "      <td>0.00000</td>\n",
              "      <td>0.00003</td>\n",
              "      <td>0.00007</td>\n",
              "      <td>0.0</td>\n",
              "      <td>0.0</td>\n",
              "      <td>0.00548</td>\n",
              "      <td>...</td>\n",
              "      <td>0.21271</td>\n",
              "      <td>0.23481</td>\n",
              "      <td>0.00000</td>\n",
              "      <td>0.11508</td>\n",
              "      <td>0.73016</td>\n",
              "      <td>0.01190</td>\n",
              "      <td>0.00397</td>\n",
              "      <td>0.02381</td>\n",
              "      <td>0.03867</td>\n",
              "      <td>0.0</td>\n",
              "    </tr>\n",
              "  </tbody>\n",
              "</table>\n",
              "<p>294258 rows × 34 columns</p>\n",
              "</div>\n",
              "      <button class=\"colab-df-convert\" onclick=\"convertToInteractive('df-5604de4f-76e4-41ac-b4c2-8813b6154ab6')\"\n",
              "              title=\"Convert this dataframe to an interactive table.\"\n",
              "              style=\"display:none;\">\n",
              "        \n",
              "  <svg xmlns=\"http://www.w3.org/2000/svg\" height=\"24px\"viewBox=\"0 0 24 24\"\n",
              "       width=\"24px\">\n",
              "    <path d=\"M0 0h24v24H0V0z\" fill=\"none\"/>\n",
              "    <path d=\"M18.56 5.44l.94 2.06.94-2.06 2.06-.94-2.06-.94-.94-2.06-.94 2.06-2.06.94zm-11 1L8.5 8.5l.94-2.06 2.06-.94-2.06-.94L8.5 2.5l-.94 2.06-2.06.94zm10 10l.94 2.06.94-2.06 2.06-.94-2.06-.94-.94-2.06-.94 2.06-2.06.94z\"/><path d=\"M17.41 7.96l-1.37-1.37c-.4-.4-.92-.59-1.43-.59-.52 0-1.04.2-1.43.59L10.3 9.45l-7.72 7.72c-.78.78-.78 2.05 0 2.83L4 21.41c.39.39.9.59 1.41.59.51 0 1.02-.2 1.41-.59l7.78-7.78 2.81-2.81c.8-.78.8-2.07 0-2.86zM5.41 20L4 18.59l7.72-7.72 1.47 1.35L5.41 20z\"/>\n",
              "  </svg>\n",
              "      </button>\n",
              "      \n",
              "  <style>\n",
              "    .colab-df-container {\n",
              "      display:flex;\n",
              "      flex-wrap:wrap;\n",
              "      gap: 12px;\n",
              "    }\n",
              "\n",
              "    .colab-df-convert {\n",
              "      background-color: #E8F0FE;\n",
              "      border: none;\n",
              "      border-radius: 50%;\n",
              "      cursor: pointer;\n",
              "      display: none;\n",
              "      fill: #1967D2;\n",
              "      height: 32px;\n",
              "      padding: 0 0 0 0;\n",
              "      width: 32px;\n",
              "    }\n",
              "\n",
              "    .colab-df-convert:hover {\n",
              "      background-color: #E2EBFA;\n",
              "      box-shadow: 0px 1px 2px rgba(60, 64, 67, 0.3), 0px 1px 3px 1px rgba(60, 64, 67, 0.15);\n",
              "      fill: #174EA6;\n",
              "    }\n",
              "\n",
              "    [theme=dark] .colab-df-convert {\n",
              "      background-color: #3B4455;\n",
              "      fill: #D2E3FC;\n",
              "    }\n",
              "\n",
              "    [theme=dark] .colab-df-convert:hover {\n",
              "      background-color: #434B5C;\n",
              "      box-shadow: 0px 1px 3px 1px rgba(0, 0, 0, 0.15);\n",
              "      filter: drop-shadow(0px 1px 2px rgba(0, 0, 0, 0.3));\n",
              "      fill: #FFFFFF;\n",
              "    }\n",
              "  </style>\n",
              "\n",
              "      <script>\n",
              "        const buttonEl =\n",
              "          document.querySelector('#df-5604de4f-76e4-41ac-b4c2-8813b6154ab6 button.colab-df-convert');\n",
              "        buttonEl.style.display =\n",
              "          google.colab.kernel.accessAllowed ? 'block' : 'none';\n",
              "\n",
              "        async function convertToInteractive(key) {\n",
              "          const element = document.querySelector('#df-5604de4f-76e4-41ac-b4c2-8813b6154ab6');\n",
              "          const dataTable =\n",
              "            await google.colab.kernel.invokeFunction('convertToInteractive',\n",
              "                                                     [key], {});\n",
              "          if (!dataTable) return;\n",
              "\n",
              "          const docLinkHtml = 'Like what you see? Visit the ' +\n",
              "            '<a target=\"_blank\" href=https://colab.research.google.com/notebooks/data_table.ipynb>data table notebook</a>'\n",
              "            + ' to learn more about interactive tables.';\n",
              "          element.innerHTML = '';\n",
              "          dataTable['output_type'] = 'display_data';\n",
              "          await google.colab.output.renderOutput(dataTable, element);\n",
              "          const docLink = document.createElement('div');\n",
              "          docLink.innerHTML = docLinkHtml;\n",
              "          element.appendChild(docLink);\n",
              "        }\n",
              "      </script>\n",
              "    </div>\n",
              "  </div>\n",
              "  "
            ]
          },
          "metadata": {},
          "execution_count": 390
        }
      ]
    },
    {
      "cell_type": "code",
      "source": [
        "df_test = pd.read_csv(gc_path+'test.csv', sep=';')\n",
        "df_test = df_test.drop(columns=['period', 'subject_type', 'subject_name', 'city_name']).fillna(0)\n",
        "df_test['hex'] = df_test['hex'].apply(b16)"
      ],
      "metadata": {
        "id": "QpxjpJ5Kc0Ms"
      },
      "execution_count": null,
      "outputs": []
    },
    {
      "cell_type": "markdown",
      "source": [
        "`Основной код`"
      ],
      "metadata": {
        "id": "n8-fz_HzeoJQ"
      }
    },
    {
      "cell_type": "code",
      "source": [
        "# Подготовка данных \n",
        "# df_test = clean_subject_type(df_test)\n",
        "# df_test = clean_period(df_test)\n",
        "# df_test = clean_hex(df_test)\n",
        "# df_test = clean_subject_name(df_test)\n",
        "# df_test = clean_city_name(df_test)\n",
        "\n",
        "from sklearn.metrics import confusion_matrix"
      ],
      "metadata": {
        "id": "T6I5wvrSrQt0"
      },
      "execution_count": null,
      "outputs": []
    },
    {
      "cell_type": "code",
      "source": [
        "# Построить бустинг\n",
        "cat_model = CatBoostClassifier(random_seed=42, iterations=300)\n",
        "cat_model.fit(df2.drop(columns=['label']), df2['label'])\n",
        "\n",
        "# Предсказание \n",
        "y_pred = cat_model.predict(df_test.drop(columns=['label']))\n",
        "confusion_matrix(df_test['label'], y_pred)"
      ],
      "metadata": {
        "id": "2JftqJQDTxeD",
        "colab": {
          "base_uri": "https://localhost:8080/"
        },
        "outputId": "deee46f6-c038-48ab-93df-be228181edfd"
      },
      "execution_count": null,
      "outputs": [
        {
          "output_type": "stream",
          "name": "stdout",
          "text": [
            "Learning rate set to 0.352015\n",
            "0:\tlearn: 0.2584942\ttotal: 90.9ms\tremaining: 27.2s\n",
            "1:\tlearn: 0.1457613\ttotal: 172ms\tremaining: 25.6s\n",
            "2:\tlearn: 0.1147177\ttotal: 268ms\tremaining: 26.6s\n",
            "3:\tlearn: 0.1046988\ttotal: 354ms\tremaining: 26.2s\n",
            "4:\tlearn: 0.1001136\ttotal: 439ms\tremaining: 25.9s\n",
            "5:\tlearn: 0.0981917\ttotal: 528ms\tremaining: 25.9s\n",
            "6:\tlearn: 0.0972148\ttotal: 600ms\tremaining: 25.1s\n",
            "7:\tlearn: 0.0963979\ttotal: 683ms\tremaining: 24.9s\n",
            "8:\tlearn: 0.0955008\ttotal: 776ms\tremaining: 25.1s\n",
            "9:\tlearn: 0.0946555\ttotal: 883ms\tremaining: 25.6s\n",
            "10:\tlearn: 0.0941599\ttotal: 968ms\tremaining: 25.4s\n",
            "11:\tlearn: 0.0937767\ttotal: 1.06s\tremaining: 25.4s\n",
            "12:\tlearn: 0.0933783\ttotal: 1.14s\tremaining: 25.2s\n",
            "13:\tlearn: 0.0931921\ttotal: 1.22s\tremaining: 25s\n",
            "14:\tlearn: 0.0928873\ttotal: 1.31s\tremaining: 24.9s\n",
            "15:\tlearn: 0.0926740\ttotal: 1.39s\tremaining: 24.7s\n",
            "16:\tlearn: 0.0924829\ttotal: 1.48s\tremaining: 24.6s\n",
            "17:\tlearn: 0.0922261\ttotal: 1.57s\tremaining: 24.6s\n",
            "18:\tlearn: 0.0920288\ttotal: 1.65s\tremaining: 24.4s\n",
            "19:\tlearn: 0.0918474\ttotal: 1.74s\tremaining: 24.4s\n",
            "20:\tlearn: 0.0916406\ttotal: 1.83s\tremaining: 24.3s\n",
            "21:\tlearn: 0.0915416\ttotal: 1.9s\tremaining: 24s\n",
            "22:\tlearn: 0.0914312\ttotal: 1.97s\tremaining: 23.7s\n",
            "23:\tlearn: 0.0913307\ttotal: 2.05s\tremaining: 23.6s\n",
            "24:\tlearn: 0.0911841\ttotal: 2.14s\tremaining: 23.6s\n",
            "25:\tlearn: 0.0910301\ttotal: 2.21s\tremaining: 23.3s\n",
            "26:\tlearn: 0.0909206\ttotal: 2.31s\tremaining: 23.3s\n",
            "27:\tlearn: 0.0906867\ttotal: 2.41s\tremaining: 23.4s\n",
            "28:\tlearn: 0.0905771\ttotal: 2.49s\tremaining: 23.2s\n",
            "29:\tlearn: 0.0905032\ttotal: 2.56s\tremaining: 23.1s\n",
            "30:\tlearn: 0.0904081\ttotal: 2.64s\tremaining: 22.9s\n",
            "31:\tlearn: 0.0902623\ttotal: 2.72s\tremaining: 22.8s\n",
            "32:\tlearn: 0.0901441\ttotal: 2.79s\tremaining: 22.6s\n",
            "33:\tlearn: 0.0900456\ttotal: 2.87s\tremaining: 22.5s\n",
            "34:\tlearn: 0.0899888\ttotal: 2.94s\tremaining: 22.3s\n",
            "35:\tlearn: 0.0898360\ttotal: 3.03s\tremaining: 22.2s\n",
            "36:\tlearn: 0.0897498\ttotal: 3.1s\tremaining: 22.1s\n",
            "37:\tlearn: 0.0896359\ttotal: 3.18s\tremaining: 21.9s\n",
            "38:\tlearn: 0.0895263\ttotal: 3.27s\tremaining: 21.9s\n",
            "39:\tlearn: 0.0894058\ttotal: 3.37s\tremaining: 21.9s\n",
            "40:\tlearn: 0.0893481\ttotal: 3.44s\tremaining: 21.7s\n",
            "41:\tlearn: 0.0892497\ttotal: 3.52s\tremaining: 21.7s\n",
            "42:\tlearn: 0.0890978\ttotal: 3.63s\tremaining: 21.7s\n",
            "43:\tlearn: 0.0890570\ttotal: 3.7s\tremaining: 21.5s\n",
            "44:\tlearn: 0.0889295\ttotal: 3.79s\tremaining: 21.5s\n",
            "45:\tlearn: 0.0888403\ttotal: 3.87s\tremaining: 21.4s\n",
            "46:\tlearn: 0.0887596\ttotal: 3.96s\tremaining: 21.3s\n",
            "47:\tlearn: 0.0886764\ttotal: 4.03s\tremaining: 21.2s\n",
            "48:\tlearn: 0.0885647\ttotal: 4.11s\tremaining: 21.1s\n",
            "49:\tlearn: 0.0884886\ttotal: 4.2s\tremaining: 21s\n",
            "50:\tlearn: 0.0884182\ttotal: 4.27s\tremaining: 20.9s\n",
            "51:\tlearn: 0.0883499\ttotal: 4.35s\tremaining: 20.8s\n",
            "52:\tlearn: 0.0882903\ttotal: 4.42s\tremaining: 20.6s\n",
            "53:\tlearn: 0.0881790\ttotal: 4.5s\tremaining: 20.5s\n",
            "54:\tlearn: 0.0881024\ttotal: 4.58s\tremaining: 20.4s\n",
            "55:\tlearn: 0.0880402\ttotal: 4.65s\tremaining: 20.3s\n",
            "56:\tlearn: 0.0879794\ttotal: 4.73s\tremaining: 20.2s\n",
            "57:\tlearn: 0.0879026\ttotal: 4.82s\tremaining: 20.1s\n",
            "58:\tlearn: 0.0878121\ttotal: 4.89s\tremaining: 20s\n",
            "59:\tlearn: 0.0877474\ttotal: 4.96s\tremaining: 19.9s\n",
            "60:\tlearn: 0.0876371\ttotal: 5.05s\tremaining: 19.8s\n",
            "61:\tlearn: 0.0874102\ttotal: 5.14s\tremaining: 19.7s\n",
            "62:\tlearn: 0.0873261\ttotal: 5.22s\tremaining: 19.7s\n",
            "63:\tlearn: 0.0872819\ttotal: 5.29s\tremaining: 19.5s\n",
            "64:\tlearn: 0.0871874\ttotal: 5.38s\tremaining: 19.5s\n",
            "65:\tlearn: 0.0871313\ttotal: 5.46s\tremaining: 19.3s\n",
            "66:\tlearn: 0.0870628\ttotal: 5.53s\tremaining: 19.2s\n",
            "67:\tlearn: 0.0869937\ttotal: 5.63s\tremaining: 19.2s\n",
            "68:\tlearn: 0.0869605\ttotal: 5.7s\tremaining: 19.1s\n",
            "69:\tlearn: 0.0868839\ttotal: 5.78s\tremaining: 19s\n",
            "70:\tlearn: 0.0868442\ttotal: 5.86s\tremaining: 18.9s\n",
            "71:\tlearn: 0.0867559\ttotal: 5.95s\tremaining: 18.8s\n",
            "72:\tlearn: 0.0866541\ttotal: 6.03s\tremaining: 18.7s\n",
            "73:\tlearn: 0.0865704\ttotal: 6.1s\tremaining: 18.6s\n",
            "74:\tlearn: 0.0865012\ttotal: 6.17s\tremaining: 18.5s\n",
            "75:\tlearn: 0.0864327\ttotal: 6.26s\tremaining: 18.4s\n",
            "76:\tlearn: 0.0863717\ttotal: 6.33s\tremaining: 18.3s\n",
            "77:\tlearn: 0.0863125\ttotal: 6.43s\tremaining: 18.3s\n",
            "78:\tlearn: 0.0862592\ttotal: 6.5s\tremaining: 18.2s\n",
            "79:\tlearn: 0.0862242\ttotal: 6.56s\tremaining: 18.1s\n",
            "80:\tlearn: 0.0861834\ttotal: 6.65s\tremaining: 18s\n",
            "81:\tlearn: 0.0861277\ttotal: 6.72s\tremaining: 17.9s\n",
            "82:\tlearn: 0.0860649\ttotal: 6.79s\tremaining: 17.8s\n",
            "83:\tlearn: 0.0860369\ttotal: 6.87s\tremaining: 17.7s\n",
            "84:\tlearn: 0.0860198\ttotal: 6.95s\tremaining: 17.6s\n",
            "85:\tlearn: 0.0859640\ttotal: 7.01s\tremaining: 17.5s\n",
            "86:\tlearn: 0.0859037\ttotal: 7.09s\tremaining: 17.4s\n",
            "87:\tlearn: 0.0858536\ttotal: 7.16s\tremaining: 17.3s\n",
            "88:\tlearn: 0.0858073\ttotal: 7.24s\tremaining: 17.2s\n",
            "89:\tlearn: 0.0857389\ttotal: 7.31s\tremaining: 17.1s\n",
            "90:\tlearn: 0.0856452\ttotal: 7.41s\tremaining: 17s\n",
            "91:\tlearn: 0.0855507\ttotal: 7.5s\tremaining: 17s\n",
            "92:\tlearn: 0.0855062\ttotal: 7.58s\tremaining: 16.9s\n",
            "93:\tlearn: 0.0854442\ttotal: 7.65s\tremaining: 16.8s\n",
            "94:\tlearn: 0.0853913\ttotal: 7.74s\tremaining: 16.7s\n",
            "95:\tlearn: 0.0853147\ttotal: 7.82s\tremaining: 16.6s\n",
            "96:\tlearn: 0.0852437\ttotal: 7.89s\tremaining: 16.5s\n",
            "97:\tlearn: 0.0851812\ttotal: 7.97s\tremaining: 16.4s\n",
            "98:\tlearn: 0.0850552\ttotal: 8.06s\tremaining: 16.4s\n",
            "99:\tlearn: 0.0850049\ttotal: 8.13s\tremaining: 16.3s\n",
            "100:\tlearn: 0.0849409\ttotal: 8.21s\tremaining: 16.2s\n",
            "101:\tlearn: 0.0848964\ttotal: 8.29s\tremaining: 16.1s\n",
            "102:\tlearn: 0.0848255\ttotal: 8.37s\tremaining: 16s\n",
            "103:\tlearn: 0.0847743\ttotal: 8.45s\tremaining: 15.9s\n",
            "104:\tlearn: 0.0847127\ttotal: 8.53s\tremaining: 15.8s\n",
            "105:\tlearn: 0.0846333\ttotal: 8.6s\tremaining: 15.7s\n",
            "106:\tlearn: 0.0845870\ttotal: 8.68s\tremaining: 15.7s\n",
            "107:\tlearn: 0.0845463\ttotal: 8.76s\tremaining: 15.6s\n",
            "108:\tlearn: 0.0844834\ttotal: 8.84s\tremaining: 15.5s\n",
            "109:\tlearn: 0.0844572\ttotal: 8.92s\tremaining: 15.4s\n",
            "110:\tlearn: 0.0844022\ttotal: 8.99s\tremaining: 15.3s\n",
            "111:\tlearn: 0.0843590\ttotal: 9.07s\tremaining: 15.2s\n",
            "112:\tlearn: 0.0843244\ttotal: 9.14s\tremaining: 15.1s\n",
            "113:\tlearn: 0.0842651\ttotal: 9.22s\tremaining: 15s\n",
            "114:\tlearn: 0.0842149\ttotal: 9.3s\tremaining: 15s\n",
            "115:\tlearn: 0.0841636\ttotal: 9.37s\tremaining: 14.9s\n",
            "116:\tlearn: 0.0840947\ttotal: 9.46s\tremaining: 14.8s\n",
            "117:\tlearn: 0.0840518\ttotal: 9.53s\tremaining: 14.7s\n",
            "118:\tlearn: 0.0839895\ttotal: 9.6s\tremaining: 14.6s\n",
            "119:\tlearn: 0.0839117\ttotal: 9.69s\tremaining: 14.5s\n",
            "120:\tlearn: 0.0838742\ttotal: 9.76s\tremaining: 14.4s\n",
            "121:\tlearn: 0.0838616\ttotal: 9.83s\tremaining: 14.3s\n",
            "122:\tlearn: 0.0837538\ttotal: 9.92s\tremaining: 14.3s\n",
            "123:\tlearn: 0.0836912\ttotal: 10s\tremaining: 14.2s\n",
            "124:\tlearn: 0.0836185\ttotal: 10.1s\tremaining: 14.1s\n",
            "125:\tlearn: 0.0835672\ttotal: 10.2s\tremaining: 14s\n",
            "126:\tlearn: 0.0835118\ttotal: 10.3s\tremaining: 14s\n",
            "127:\tlearn: 0.0834567\ttotal: 10.3s\tremaining: 13.9s\n",
            "128:\tlearn: 0.0834071\ttotal: 10.4s\tremaining: 13.8s\n",
            "129:\tlearn: 0.0833568\ttotal: 10.5s\tremaining: 13.7s\n",
            "130:\tlearn: 0.0832907\ttotal: 10.6s\tremaining: 13.6s\n",
            "131:\tlearn: 0.0832642\ttotal: 10.7s\tremaining: 13.6s\n",
            "132:\tlearn: 0.0832281\ttotal: 10.7s\tremaining: 13.5s\n",
            "133:\tlearn: 0.0831729\ttotal: 10.8s\tremaining: 13.4s\n",
            "134:\tlearn: 0.0831349\ttotal: 10.9s\tremaining: 13.3s\n",
            "135:\tlearn: 0.0830796\ttotal: 11s\tremaining: 13.2s\n",
            "136:\tlearn: 0.0830267\ttotal: 11s\tremaining: 13.1s\n",
            "137:\tlearn: 0.0829731\ttotal: 11.1s\tremaining: 13s\n",
            "138:\tlearn: 0.0829180\ttotal: 11.2s\tremaining: 12.9s\n",
            "139:\tlearn: 0.0828438\ttotal: 11.3s\tremaining: 12.9s\n",
            "140:\tlearn: 0.0827999\ttotal: 11.3s\tremaining: 12.8s\n",
            "141:\tlearn: 0.0826984\ttotal: 11.4s\tremaining: 12.7s\n",
            "142:\tlearn: 0.0826206\ttotal: 11.5s\tremaining: 12.7s\n",
            "143:\tlearn: 0.0825465\ttotal: 11.6s\tremaining: 12.6s\n",
            "144:\tlearn: 0.0824874\ttotal: 11.7s\tremaining: 12.5s\n",
            "145:\tlearn: 0.0824191\ttotal: 11.8s\tremaining: 12.4s\n",
            "146:\tlearn: 0.0823701\ttotal: 11.9s\tremaining: 12.3s\n",
            "147:\tlearn: 0.0823421\ttotal: 11.9s\tremaining: 12.3s\n",
            "148:\tlearn: 0.0822816\ttotal: 12s\tremaining: 12.2s\n",
            "149:\tlearn: 0.0822302\ttotal: 12.1s\tremaining: 12.1s\n",
            "150:\tlearn: 0.0821838\ttotal: 12.2s\tremaining: 12s\n",
            "151:\tlearn: 0.0821440\ttotal: 12.3s\tremaining: 11.9s\n",
            "152:\tlearn: 0.0821004\ttotal: 12.4s\tremaining: 11.9s\n",
            "153:\tlearn: 0.0820427\ttotal: 12.4s\tremaining: 11.8s\n",
            "154:\tlearn: 0.0819940\ttotal: 12.5s\tremaining: 11.7s\n",
            "155:\tlearn: 0.0819682\ttotal: 12.6s\tremaining: 11.6s\n",
            "156:\tlearn: 0.0818659\ttotal: 12.7s\tremaining: 11.6s\n",
            "157:\tlearn: 0.0818112\ttotal: 12.8s\tremaining: 11.5s\n",
            "158:\tlearn: 0.0817629\ttotal: 12.9s\tremaining: 11.4s\n",
            "159:\tlearn: 0.0817091\ttotal: 12.9s\tremaining: 11.3s\n",
            "160:\tlearn: 0.0816252\ttotal: 13s\tremaining: 11.2s\n",
            "161:\tlearn: 0.0815670\ttotal: 13.1s\tremaining: 11.2s\n",
            "162:\tlearn: 0.0815224\ttotal: 13.2s\tremaining: 11.1s\n",
            "163:\tlearn: 0.0814564\ttotal: 13.3s\tremaining: 11s\n",
            "164:\tlearn: 0.0813955\ttotal: 13.3s\tremaining: 10.9s\n",
            "165:\tlearn: 0.0813696\ttotal: 13.4s\tremaining: 10.8s\n",
            "166:\tlearn: 0.0813278\ttotal: 13.5s\tremaining: 10.7s\n",
            "167:\tlearn: 0.0812714\ttotal: 13.6s\tremaining: 10.7s\n",
            "168:\tlearn: 0.0812336\ttotal: 13.7s\tremaining: 10.6s\n",
            "169:\tlearn: 0.0811912\ttotal: 13.7s\tremaining: 10.5s\n",
            "170:\tlearn: 0.0811105\ttotal: 13.8s\tremaining: 10.4s\n",
            "171:\tlearn: 0.0810711\ttotal: 13.9s\tremaining: 10.3s\n",
            "172:\tlearn: 0.0810426\ttotal: 14s\tremaining: 10.3s\n",
            "173:\tlearn: 0.0809693\ttotal: 14.1s\tremaining: 10.2s\n",
            "174:\tlearn: 0.0808992\ttotal: 14.1s\tremaining: 10.1s\n",
            "175:\tlearn: 0.0808170\ttotal: 14.2s\tremaining: 10s\n",
            "176:\tlearn: 0.0807814\ttotal: 14.3s\tremaining: 9.94s\n",
            "177:\tlearn: 0.0807200\ttotal: 14.4s\tremaining: 9.86s\n",
            "178:\tlearn: 0.0806791\ttotal: 14.5s\tremaining: 9.78s\n",
            "179:\tlearn: 0.0806509\ttotal: 14.5s\tremaining: 9.7s\n",
            "180:\tlearn: 0.0805895\ttotal: 14.6s\tremaining: 9.61s\n",
            "181:\tlearn: 0.0805299\ttotal: 14.7s\tremaining: 9.53s\n",
            "182:\tlearn: 0.0804841\ttotal: 14.8s\tremaining: 9.45s\n",
            "183:\tlearn: 0.0804401\ttotal: 14.9s\tremaining: 9.37s\n",
            "184:\tlearn: 0.0804163\ttotal: 14.9s\tremaining: 9.28s\n",
            "185:\tlearn: 0.0803780\ttotal: 15s\tremaining: 9.2s\n",
            "186:\tlearn: 0.0803541\ttotal: 15.1s\tremaining: 9.11s\n",
            "187:\tlearn: 0.0803081\ttotal: 15.1s\tremaining: 9.02s\n",
            "188:\tlearn: 0.0802865\ttotal: 15.2s\tremaining: 8.94s\n",
            "189:\tlearn: 0.0802389\ttotal: 15.3s\tremaining: 8.86s\n",
            "190:\tlearn: 0.0802093\ttotal: 15.4s\tremaining: 8.77s\n",
            "191:\tlearn: 0.0801414\ttotal: 15.4s\tremaining: 8.69s\n",
            "192:\tlearn: 0.0800964\ttotal: 15.5s\tremaining: 8.6s\n",
            "193:\tlearn: 0.0800450\ttotal: 15.6s\tremaining: 8.53s\n",
            "194:\tlearn: 0.0799675\ttotal: 15.7s\tremaining: 8.45s\n",
            "195:\tlearn: 0.0799171\ttotal: 15.8s\tremaining: 8.37s\n",
            "196:\tlearn: 0.0798673\ttotal: 15.8s\tremaining: 8.29s\n",
            "197:\tlearn: 0.0798193\ttotal: 15.9s\tremaining: 8.2s\n",
            "198:\tlearn: 0.0797508\ttotal: 16s\tremaining: 8.13s\n",
            "199:\tlearn: 0.0796952\ttotal: 16.1s\tremaining: 8.04s\n",
            "200:\tlearn: 0.0796423\ttotal: 16.2s\tremaining: 7.97s\n",
            "201:\tlearn: 0.0795887\ttotal: 16.2s\tremaining: 7.88s\n",
            "202:\tlearn: 0.0795499\ttotal: 16.3s\tremaining: 7.8s\n",
            "203:\tlearn: 0.0795267\ttotal: 16.4s\tremaining: 7.72s\n",
            "204:\tlearn: 0.0794303\ttotal: 16.5s\tremaining: 7.64s\n",
            "205:\tlearn: 0.0793892\ttotal: 16.6s\tremaining: 7.57s\n",
            "206:\tlearn: 0.0793517\ttotal: 16.7s\tremaining: 7.49s\n",
            "207:\tlearn: 0.0793098\ttotal: 16.7s\tremaining: 7.41s\n",
            "208:\tlearn: 0.0792651\ttotal: 16.8s\tremaining: 7.32s\n",
            "209:\tlearn: 0.0792372\ttotal: 16.9s\tremaining: 7.25s\n",
            "210:\tlearn: 0.0791623\ttotal: 17s\tremaining: 7.17s\n",
            "211:\tlearn: 0.0791156\ttotal: 17.1s\tremaining: 7.08s\n",
            "212:\tlearn: 0.0790672\ttotal: 17.1s\tremaining: 7s\n",
            "213:\tlearn: 0.0790166\ttotal: 17.2s\tremaining: 6.92s\n",
            "214:\tlearn: 0.0789881\ttotal: 17.3s\tremaining: 6.84s\n",
            "215:\tlearn: 0.0789387\ttotal: 17.4s\tremaining: 6.76s\n",
            "216:\tlearn: 0.0789109\ttotal: 17.5s\tremaining: 6.68s\n",
            "217:\tlearn: 0.0788493\ttotal: 17.6s\tremaining: 6.61s\n",
            "218:\tlearn: 0.0788355\ttotal: 17.7s\tremaining: 6.53s\n",
            "219:\tlearn: 0.0787790\ttotal: 17.7s\tremaining: 6.45s\n",
            "220:\tlearn: 0.0787178\ttotal: 17.8s\tremaining: 6.37s\n",
            "221:\tlearn: 0.0786813\ttotal: 17.9s\tremaining: 6.29s\n",
            "222:\tlearn: 0.0786362\ttotal: 18s\tremaining: 6.21s\n",
            "223:\tlearn: 0.0785903\ttotal: 18.1s\tremaining: 6.13s\n",
            "224:\tlearn: 0.0784927\ttotal: 18.2s\tremaining: 6.05s\n",
            "225:\tlearn: 0.0784369\ttotal: 18.3s\tremaining: 5.98s\n",
            "226:\tlearn: 0.0783885\ttotal: 18.4s\tremaining: 5.93s\n",
            "227:\tlearn: 0.0783539\ttotal: 18.6s\tremaining: 5.86s\n",
            "228:\tlearn: 0.0782832\ttotal: 18.7s\tremaining: 5.81s\n",
            "229:\tlearn: 0.0782429\ttotal: 18.9s\tremaining: 5.75s\n",
            "230:\tlearn: 0.0781957\ttotal: 19.1s\tremaining: 5.7s\n",
            "231:\tlearn: 0.0781493\ttotal: 19.2s\tremaining: 5.63s\n",
            "232:\tlearn: 0.0781026\ttotal: 19.4s\tremaining: 5.58s\n",
            "233:\tlearn: 0.0780708\ttotal: 19.6s\tremaining: 5.52s\n",
            "234:\tlearn: 0.0780300\ttotal: 19.8s\tremaining: 5.47s\n",
            "235:\tlearn: 0.0779902\ttotal: 19.9s\tremaining: 5.4s\n",
            "236:\tlearn: 0.0779612\ttotal: 20s\tremaining: 5.33s\n",
            "237:\tlearn: 0.0779296\ttotal: 20.2s\tremaining: 5.26s\n",
            "238:\tlearn: 0.0778983\ttotal: 20.3s\tremaining: 5.19s\n",
            "239:\tlearn: 0.0778595\ttotal: 20.5s\tremaining: 5.12s\n",
            "240:\tlearn: 0.0778209\ttotal: 20.7s\tremaining: 5.06s\n",
            "241:\tlearn: 0.0777929\ttotal: 20.9s\tremaining: 5s\n",
            "242:\tlearn: 0.0777081\ttotal: 21s\tremaining: 4.93s\n",
            "243:\tlearn: 0.0776889\ttotal: 21.2s\tremaining: 4.86s\n",
            "244:\tlearn: 0.0776614\ttotal: 21.4s\tremaining: 4.79s\n",
            "245:\tlearn: 0.0776324\ttotal: 21.5s\tremaining: 4.72s\n",
            "246:\tlearn: 0.0776059\ttotal: 21.6s\tremaining: 4.63s\n",
            "247:\tlearn: 0.0775853\ttotal: 21.7s\tremaining: 4.54s\n",
            "248:\tlearn: 0.0775320\ttotal: 21.8s\tremaining: 4.46s\n",
            "249:\tlearn: 0.0774729\ttotal: 21.9s\tremaining: 4.37s\n",
            "250:\tlearn: 0.0774512\ttotal: 21.9s\tremaining: 4.28s\n",
            "251:\tlearn: 0.0774191\ttotal: 22s\tremaining: 4.19s\n",
            "252:\tlearn: 0.0773948\ttotal: 22.1s\tremaining: 4.1s\n",
            "253:\tlearn: 0.0773636\ttotal: 22.2s\tremaining: 4.01s\n",
            "254:\tlearn: 0.0773030\ttotal: 22.2s\tremaining: 3.92s\n",
            "255:\tlearn: 0.0772716\ttotal: 22.3s\tremaining: 3.83s\n",
            "256:\tlearn: 0.0772459\ttotal: 22.4s\tremaining: 3.74s\n",
            "257:\tlearn: 0.0772030\ttotal: 22.5s\tremaining: 3.65s\n",
            "258:\tlearn: 0.0771614\ttotal: 22.5s\tremaining: 3.57s\n",
            "259:\tlearn: 0.0771304\ttotal: 22.6s\tremaining: 3.48s\n",
            "260:\tlearn: 0.0770692\ttotal: 22.7s\tremaining: 3.39s\n",
            "261:\tlearn: 0.0770429\ttotal: 22.8s\tremaining: 3.3s\n",
            "262:\tlearn: 0.0770183\ttotal: 22.8s\tremaining: 3.21s\n",
            "263:\tlearn: 0.0769620\ttotal: 22.9s\tremaining: 3.13s\n",
            "264:\tlearn: 0.0768984\ttotal: 23s\tremaining: 3.04s\n",
            "265:\tlearn: 0.0768529\ttotal: 23.1s\tremaining: 2.95s\n",
            "266:\tlearn: 0.0767928\ttotal: 23.2s\tremaining: 2.86s\n",
            "267:\tlearn: 0.0767677\ttotal: 23.3s\tremaining: 2.78s\n",
            "268:\tlearn: 0.0767238\ttotal: 23.3s\tremaining: 2.69s\n",
            "269:\tlearn: 0.0766787\ttotal: 23.4s\tremaining: 2.6s\n",
            "270:\tlearn: 0.0766201\ttotal: 23.5s\tremaining: 2.51s\n",
            "271:\tlearn: 0.0766025\ttotal: 23.5s\tremaining: 2.42s\n",
            "272:\tlearn: 0.0765486\ttotal: 23.6s\tremaining: 2.34s\n",
            "273:\tlearn: 0.0765053\ttotal: 23.7s\tremaining: 2.25s\n",
            "274:\tlearn: 0.0764655\ttotal: 23.8s\tremaining: 2.16s\n",
            "275:\tlearn: 0.0764353\ttotal: 23.9s\tremaining: 2.08s\n",
            "276:\tlearn: 0.0763823\ttotal: 24s\tremaining: 1.99s\n",
            "277:\tlearn: 0.0763508\ttotal: 24s\tremaining: 1.9s\n",
            "278:\tlearn: 0.0763065\ttotal: 24.1s\tremaining: 1.81s\n",
            "279:\tlearn: 0.0762224\ttotal: 24.2s\tremaining: 1.73s\n",
            "280:\tlearn: 0.0761794\ttotal: 24.3s\tremaining: 1.64s\n",
            "281:\tlearn: 0.0761400\ttotal: 24.3s\tremaining: 1.55s\n",
            "282:\tlearn: 0.0760966\ttotal: 24.4s\tremaining: 1.47s\n",
            "283:\tlearn: 0.0760411\ttotal: 24.5s\tremaining: 1.38s\n",
            "284:\tlearn: 0.0759984\ttotal: 24.6s\tremaining: 1.29s\n",
            "285:\tlearn: 0.0759508\ttotal: 24.6s\tremaining: 1.21s\n",
            "286:\tlearn: 0.0759032\ttotal: 24.7s\tremaining: 1.12s\n",
            "287:\tlearn: 0.0758749\ttotal: 24.8s\tremaining: 1.03s\n",
            "288:\tlearn: 0.0758322\ttotal: 24.9s\tremaining: 948ms\n",
            "289:\tlearn: 0.0757974\ttotal: 25s\tremaining: 861ms\n",
            "290:\tlearn: 0.0757591\ttotal: 25s\tremaining: 775ms\n",
            "291:\tlearn: 0.0757181\ttotal: 25.1s\tremaining: 689ms\n",
            "292:\tlearn: 0.0756736\ttotal: 25.2s\tremaining: 602ms\n",
            "293:\tlearn: 0.0756313\ttotal: 25.3s\tremaining: 516ms\n",
            "294:\tlearn: 0.0755738\ttotal: 25.4s\tremaining: 430ms\n",
            "295:\tlearn: 0.0755318\ttotal: 25.5s\tremaining: 344ms\n",
            "296:\tlearn: 0.0754660\ttotal: 25.5s\tremaining: 258ms\n",
            "297:\tlearn: 0.0754328\ttotal: 25.6s\tremaining: 172ms\n",
            "298:\tlearn: 0.0753792\ttotal: 25.7s\tremaining: 85.9ms\n",
            "299:\tlearn: 0.0753607\ttotal: 25.8s\tremaining: 0us\n"
          ]
        },
        {
          "output_type": "execute_result",
          "data": {
            "text/plain": [
              "array([[149238,    310],\n",
              "       [  3136,     82]])"
            ]
          },
          "metadata": {},
          "execution_count": 393
        }
      ]
    },
    {
      "cell_type": "code",
      "source": [
        "# Построить бустинг\n",
        "lgb_model = lgb.LGBMClassifier(n_estimators=500)\n",
        "lgb_model.fit(df2.drop(columns=['label']), df2['label'])\n",
        "\n",
        "# Оценка точности\n",
        "y_pred = lgb_model.predict(df_test.drop(columns=['label']))\n",
        "confusion_matrix(df_test['label'], y_pred)"
      ],
      "metadata": {
        "id": "Ah8OtYTeUs9X",
        "colab": {
          "base_uri": "https://localhost:8080/"
        },
        "outputId": "c4b3bcad-c71c-401c-ccc9-a8c5685d3832"
      },
      "execution_count": null,
      "outputs": [
        {
          "output_type": "execute_result",
          "data": {
            "text/plain": [
              "array([[149276,    272],\n",
              "       [  3146,     72]])"
            ]
          },
          "metadata": {},
          "execution_count": 394
        }
      ]
    },
    {
      "cell_type": "code",
      "source": [
        "# Ансамбль из двух моделей (catboost, lightgbm)\n",
        "cat_proba = cat_model.predict_proba(df_test.drop(columns=['label']))[:,1:]\n",
        "lgb_proba = lgb_model.predict_proba(df_test.drop(columns=['label']))[:,1:]\n",
        "ensemble_pred = np.mean(np.concatenate([cat_proba, lgb_proba], axis=1), axis=1).round()\n",
        "confusion_matrix(df_test['label'], ensemble_pred)"
      ],
      "metadata": {
        "colab": {
          "base_uri": "https://localhost:8080/"
        },
        "id": "ig6XrKbkNJuS",
        "outputId": "af2f3031-c9b5-42d2-9c45-2319d3dd0136"
      },
      "execution_count": null,
      "outputs": [
        {
          "output_type": "execute_result",
          "data": {
            "text/plain": [
              "array([[149328,    220],\n",
              "       [  3157,     61]])"
            ]
          },
          "metadata": {},
          "execution_count": 395
        }
      ]
    },
    {
      "cell_type": "markdown",
      "source": [
        "### **Вариант 3 \"Машинное обучение\" (Никита) (не работает)**"
      ],
      "metadata": {
        "id": "yWJy06fatkoh"
      }
    },
    {
      "cell_type": "markdown",
      "source": [
        "`Получение имён столбцов`"
      ],
      "metadata": {
        "id": "5OwtRXr8CdFc"
      }
    },
    {
      "cell_type": "code",
      "source": [
        "# df_1 = pd.read_csv(gc_path+'train_df.csv')\n",
        " \n",
        "# list_of_column_names = list(df_1.columns)"
      ],
      "metadata": {
        "id": "FvcGb570CP8r"
      },
      "execution_count": null,
      "outputs": []
    },
    {
      "cell_type": "code",
      "source": [
        "# # Импорт пакетов проекта\n",
        "# import pandas as pd\n",
        "# import numpy as np\n",
        "# import tensorflow as tf\n",
        "# import sklearn.preprocessing as preprocessing\n",
        "# import sklearn.model_selection as model_selection\n",
        "# import matplotlib.pyplot as plt\n",
        "\n",
        "# # Чтение csv\n",
        "# tariff_df = pd.read_csv(r(gc_path+'train_df.csv'), delimiter=\";\", header=0, index_col='label')\n",
        "# tariff_df = tariff_df[['venue', 'config', 'surface', 'distance', 'going', 'race_class']]\n",
        "\n",
        "# # check to see if we have NaN, then drop NaN\n",
        "# print(tariff_df[tariff_df.isnull().any(axis=1)])\n",
        "# tariff_df = tariff_df.dropna()\n",
        "\n",
        "# # encode ordinal columns: config, going, \n",
        "# config_encoder = preprocessing.OrdinalEncoder()\n",
        "# tariff_df['config'] = config_encoder.fit_transform(tariff_df['config'].values.reshape(-1, 1))\n",
        "# going_encoder = preprocessing.OrdinalEncoder()\n",
        "# tariff_df['going'] = going_encoder.fit_transform(tariff_df['going'].values.reshape(-1, 1))\n",
        "\n",
        "# # encode nominal column: venue\n",
        "# venue_encoder = preprocessing.LabelEncoder()\n",
        "# tariff_df['venue'] = venue_encoder.fit_transform(tariff_df['venue'])"
      ],
      "metadata": {
        "id": "daxzUXJ1AFAC"
      },
      "execution_count": null,
      "outputs": []
    },
    {
      "cell_type": "markdown",
      "source": [
        "# **Матрицы ошибок**"
      ],
      "metadata": {
        "id": "i_gTmaJU_18_"
      }
    },
    {
      "cell_type": "markdown",
      "source": [
        "## **Feature importance (Тимофей)**"
      ],
      "metadata": {
        "id": "4T-YJ7Dkt0-8"
      }
    },
    {
      "cell_type": "code",
      "source": [
        "fig = plt.figure()\n",
        "ax = fig.add_axes([0,0,3,1])\n",
        "ax.bar(df2.drop(columns=['label']).columns, cat_model.feature_importances_)\n",
        "\n",
        "plt.show()\n",
        "# 'f4', 'f5', 'f7', 'f13', 'f14', 'f16', 'f23', 'f24', 'f26', 'f30'"
      ],
      "metadata": {
        "id": "2h6m49-ftOAY",
        "colab": {
          "base_uri": "https://localhost:8080/",
          "height": 337
        },
        "outputId": "1cdf34ba-9380-4666-eedf-da6c4e9f5a19"
      },
      "execution_count": null,
      "outputs": [
        {
          "output_type": "display_data",
          "data": {
            "text/plain": [
              "<Figure size 432x288 with 1 Axes>"
            ],
            "image/png": "[encoded data removed]"
          },
          "metadata": {
            "needs_background": "light"
          }
        }
      ]
    },
    {
      "cell_type": "markdown",
      "source": [
        "## **Таблица (не работает)**"
      ],
      "metadata": {
        "id": "RhxfdzMBn7Im"
      }
    },
    {
      "cell_type": "code",
      "source": [
        "# from sklearn.metrics import multilabel_confusion_matrix\n",
        "# vis_arr = multilabel_confusion_matrix(true_labels, preds)\n",
        "\n",
        "# labels = [\"\".join(\"\" + str(i)) for i in range(1, 16)]\n",
        "\n",
        "# import pandas as pd\n",
        "# import matplotlib.pyplot as plt\n",
        "# import seaborn as sns\n",
        "# vis_arr[7]"
      ],
      "metadata": {
        "id": "ILsZdDeioCQ-"
      },
      "execution_count": null,
      "outputs": []
    },
    {
      "cell_type": "code",
      "source": [
        "# from sklearn.metrics import multilabel_confusion_matrix\n",
        "# vis_arr = multilabel_confusion_matrix(true_labels, preds)\n",
        "\n",
        "# labels = [\"\".join(\"\" + str(i)) for i in range(1, 16)]\n",
        "\n",
        "# import pandas as pd\n",
        "# import matplotlib.pyplot as plt\n",
        "# import seaborn as sns\n",
        "\n",
        "\n",
        "# def print_confusion_matrix(confusion_matrix, axes, class_label, class_names, fontsize=18):\n",
        "\n",
        "#     df_cm = pd.DataFrame(\n",
        "#         confusion_matrix, index=class_names, columns=class_names,\n",
        "#     )\n",
        "\n",
        "#     try:\n",
        "#         heatmap = sns.heatmap(df_cm, annot=True, fmt=\"d\", cbar=False, ax=axes)\n",
        "#         sns.set(font_scale = 1.6)\n",
        "#     except ValueError:\n",
        "#         raise ValueError(\"Confusion matrix values must be integers.\")\n",
        "#     heatmap.yaxis.set_ticklabels(heatmap.yaxis.get_ticklabels(), rotation=0, ha='right', fontsize=fontsize)\n",
        "#     heatmap.xaxis.set_ticklabels(heatmap.xaxis.get_ticklabels(), rotation=45, ha='right', fontsize=fontsize)\n",
        "#     axes.set_ylabel('True class', fontsize=fontsize)\n",
        "#     axes.set_xlabel('Predicted class', fontsize=fontsize)\n",
        "#     axes.set_title(\"class_\" + class_label, fontsize=fontsize)\n",
        "  \n",
        "\n",
        "# fig, ax = plt.subplots(15,1,figsize=(4, 15))\n",
        "# for axes, cfs_matrix, label in zip(ax.flatten(), vis_arr[0:15], labels[0:15]):\n",
        "#     print_confusion_matrix(cfs_matrix, axes, label, [\"False\", \"True\"])\n",
        "# fig.subplots_adjust(left=None, bottom=1, right=None, top=3, wspace=None, hspace=2)\n",
        "# fig.tight_layout()\n",
        "# plt.show()"
      ],
      "metadata": {
        "id": "YfcArb4XoFTq"
      },
      "execution_count": null,
      "outputs": []
    },
    {
      "cell_type": "markdown",
      "source": [
        "## **Дерево (не работает)**"
      ],
      "metadata": {
        "id": "8bJ_JVrdoMfd"
      }
    },
    {
      "cell_type": "code",
      "source": [
        "# import matplotlib.pyplot as plt\n",
        "# import numpy as np; np.random.seed(42)\n",
        "# from sklearn.ensemble import RandomForestClassifier, BaggingClassifier\n",
        "# from sklearn.tree import DecisionTreeClassifier\n",
        "# from sklearn.datasets import make_circles # Make a large circle containing a smaller circle in 2d (toy dataset)\n",
        "# from sklearn.model_selection import train_test_split\n",
        "# plt.style.use('ggplot')\n",
        "# plt.rcParams['figure.figsize'] = 10, 6\n",
        "\n",
        "# # X - координаты центров кругов, y={0;1} - метки классов -> бинарная классификция\n",
        "# X, y = make_circles(n_samples=500, factor=0.1, noise=0.35, random_state=42)\n",
        "# X_train_circles, X_test_circles, y_train_circles, y_test_circles = train_test_split(X, y, test_size=0.2)\n",
        "\n",
        "# dtree = DecisionTreeClassifier(random_state=42)\n",
        "# dtree.fit(X_train_circles, y_train_circles)\n",
        "\n",
        "# # Получаем новые центры кругов\n",
        "# x_range = np.linspace(X.min(), X.max(), 100)\n",
        "# xx1, xx2 = np.meshgrid(x_range, x_range) # xx1.shape=(100,100), xx2.shape=(100,100)\n",
        "\n",
        "# # Классифицируем круги\n",
        "# y_hat = dtree.predict(np.c_[xx1.ravel(), xx2.ravel()]) # y_hat.shape = 10000\n",
        "# y_hat = y_hat.reshape(xx1.shape) # y_hat.shape = (100, 100)\n",
        "\n",
        "# # Отрисовка кругов\n",
        "# plt.contourf(xx1, xx2, y_hat, alpha=0.2) # Отрисовать область, разграничивающую два класса\n",
        "# plt.scatter(X[:,0], X[:,1], c=y, cmap='autumn') # Отрисовать круги\n",
        "# plt.title(\"Дерево решений\")\n",
        "# plt.show()\n",
        "\n",
        "# b_dtree = BaggingClassifier(DecisionTreeClassifier(),n_estimators=300, random_state=42)\n",
        "# b_dtree.fit(X_train_circles, y_train_circles)\n",
        "\n",
        "# x_range = np.linspace(X.min(), X.max(), 100)\n",
        "# xx1, xx2 = np.meshgrid(x_range, x_range)\n",
        "# y_hat = b_dtree.predict(np.c_[xx1.ravel(), xx2.ravel()])\n",
        "# y_hat = y_hat.reshape(xx1.shape)\n",
        "# plt.contourf(xx1, xx2, y_hat, alpha=0.2)\n",
        "# plt.scatter(X[:,0], X[:,1], c=y, cmap='autumn')\n",
        "# plt.title(\"Бэггинг(дерево решений)\")\n",
        "# plt.show()\n",
        "\n",
        "# rf = RandomForestClassifier(n_estimators=300, random_state=42)\n",
        "# rf.fit(X_train_circles, y_train_circles)\n",
        "\n",
        "# x_range = np.linspace(X.min(), X.max(), 100)\n",
        "# xx1, xx2 = np.meshgrid(x_range, x_range)\n",
        "# y_hat = rf.predict(np.c_[xx1.ravel(), xx2.ravel()])\n",
        "# y_hat = y_hat.reshape(xx1.shape)\n",
        "# plt.contourf(xx1, xx2, y_hat, alpha=0.2)\n",
        "# plt.scatter(X[:,0], X[:,1], c=y, cmap='autumn')\n",
        "# plt.title(\"Случайный лес\")\n",
        "# plt.show()"
      ],
      "metadata": {
        "id": "m4aMVKBeoInM"
      },
      "execution_count": null,
      "outputs": []
    },
    {
      "cell_type": "markdown",
      "source": [
        "# **Результат обучения**"
      ],
      "metadata": {
        "id": "_C3paxylomRv"
      }
    },
    {
      "cell_type": "code",
      "source": [
        "df_test_final = pd.read_csv(gc_path+'тестовый_датасет/test dataset.csv', sep=';')\n",
        "df_test_final = df_test_final.drop(columns=['period', 'subject_type', 'subject_name', 'city_name']).fillna(0)\n",
        "df_test_final['hex'] = df_test_final['hex'].apply(b16)"
      ],
      "metadata": {
        "id": "ZhxD78Pzd63m"
      },
      "execution_count": null,
      "outputs": []
    },
    {
      "cell_type": "code",
      "source": [
        "cat_proba = cat_model.predict_proba(df_test_final.drop(columns=['label', 'id']))[:,1:]\n",
        "lgb_proba = lgb_model.predict_proba(df_test_final.drop(columns=['label','id']))[:,1:]\n",
        "ensemble_pred_final = np.mean(np.concatenate([cat_proba, lgb_proba], axis=1), axis=1)"
      ],
      "metadata": {
        "id": "qhShxz9kd7u0"
      },
      "execution_count": null,
      "outputs": []
    },
    {
      "cell_type": "code",
      "source": [
        "client_pred_data = pd.concat([pd.Series(ensemble_pred_final), df_test_final['id']], axis=1)\n",
        "client_pred_data = client_pred_data.sort_values(by=[0], ascending=False).reset_index().drop(columns=['index'])\n",
        "client_pred_data = client_pred_data[(client_pred_data.index < np.percentile(client_pred_data.index, 5))]\n",
        "client_pred_data"
      ],
      "metadata": {
        "colab": {
          "base_uri": "https://localhost:8080/",
          "height": 424
        },
        "id": "bpH0CON2d8as",
        "outputId": "107720ff-bc3e-41ff-f388-61c0a17aeaf9"
      },
      "execution_count": null,
      "outputs": [
        {
          "output_type": "execute_result",
          "data": {
            "text/plain": [
              "             0      id\n",
              "0     0.940769   52505\n",
              "1     0.911934   55388\n",
              "2     0.899573   51559\n",
              "3     0.890642    1082\n",
              "4     0.887004    1208\n",
              "...        ...     ...\n",
              "7585  0.080910  142377\n",
              "7586  0.080901  125320\n",
              "7587  0.080900   54463\n",
              "7588  0.080896   11135\n",
              "7589  0.080895  127765\n",
              "\n",
              "[7590 rows x 2 columns]"
            ],
            "text/html": [
              "\n",
              "  <div id=\"df-49709c15-da7e-4e18-98e9-39abecdc4691\">\n",
              "    <div class=\"colab-df-container\">\n",
              "      <div>\n",
              "<style scoped>\n",
              "    .dataframe tbody tr th:only-of-type {\n",
              "        vertical-align: middle;\n",
              "    }\n",
              "\n",
              "    .dataframe tbody tr th {\n",
              "        vertical-align: top;\n",
              "    }\n",
              "\n",
              "    .dataframe thead th {\n",
              "        text-align: right;\n",
              "    }\n",
              "</style>\n",
              "<table border=\"1\" class=\"dataframe\">\n",
              "  <thead>\n",
              "    <tr style=\"text-align: right;\">\n",
              "      <th></th>\n",
              "      <th>0</th>\n",
              "      <th>id</th>\n",
              "    </tr>\n",
              "  </thead>\n",
              "  <tbody>\n",
              "    <tr>\n",
              "      <th>0</th>\n",
              "      <td>0.940769</td>\n",
              "      <td>52505</td>\n",
              "    </tr>\n",
              "    <tr>\n",
              "      <th>1</th>\n",
              "      <td>0.911934</td>\n",
              "      <td>55388</td>\n",
              "    </tr>\n",
              "    <tr>\n",
              "      <th>2</th>\n",
              "      <td>0.899573</td>\n",
              "      <td>51559</td>\n",
              "    </tr>\n",
              "    <tr>\n",
              "      <th>3</th>\n",
              "      <td>0.890642</td>\n",
              "      <td>1082</td>\n",
              "    </tr>\n",
              "    <tr>\n",
              "      <th>4</th>\n",
              "      <td>0.887004</td>\n",
              "      <td>1208</td>\n",
              "    </tr>\n",
              "    <tr>\n",
              "      <th>...</th>\n",
              "      <td>...</td>\n",
              "      <td>...</td>\n",
              "    </tr>\n",
              "    <tr>\n",
              "      <th>7585</th>\n",
              "      <td>0.080910</td>\n",
              "      <td>142377</td>\n",
              "    </tr>\n",
              "    <tr>\n",
              "      <th>7586</th>\n",
              "      <td>0.080901</td>\n",
              "      <td>125320</td>\n",
              "    </tr>\n",
              "    <tr>\n",
              "      <th>7587</th>\n",
              "      <td>0.080900</td>\n",
              "      <td>54463</td>\n",
              "    </tr>\n",
              "    <tr>\n",
              "      <th>7588</th>\n",
              "      <td>0.080896</td>\n",
              "      <td>11135</td>\n",
              "    </tr>\n",
              "    <tr>\n",
              "      <th>7589</th>\n",
              "      <td>0.080895</td>\n",
              "      <td>127765</td>\n",
              "    </tr>\n",
              "  </tbody>\n",
              "</table>\n",
              "<p>7590 rows × 2 columns</p>\n",
              "</div>\n",
              "      <button class=\"colab-df-convert\" onclick=\"convertToInteractive('df-49709c15-da7e-4e18-98e9-39abecdc4691')\"\n",
              "              title=\"Convert this dataframe to an interactive table.\"\n",
              "              style=\"display:none;\">\n",
              "        \n",
              "  <svg xmlns=\"http://www.w3.org/2000/svg\" height=\"24px\"viewBox=\"0 0 24 24\"\n",
              "       width=\"24px\">\n",
              "    <path d=\"M0 0h24v24H0V0z\" fill=\"none\"/>\n",
              "    <path d=\"M18.56 5.44l.94 2.06.94-2.06 2.06-.94-2.06-.94-.94-2.06-.94 2.06-2.06.94zm-11 1L8.5 8.5l.94-2.06 2.06-.94-2.06-.94L8.5 2.5l-.94 2.06-2.06.94zm10 10l.94 2.06.94-2.06 2.06-.94-2.06-.94-.94-2.06-.94 2.06-2.06.94z\"/><path d=\"M17.41 7.96l-1.37-1.37c-.4-.4-.92-.59-1.43-.59-.52 0-1.04.2-1.43.59L10.3 9.45l-7.72 7.72c-.78.78-.78 2.05 0 2.83L4 21.41c.39.39.9.59 1.41.59.51 0 1.02-.2 1.41-.59l7.78-7.78 2.81-2.81c.8-.78.8-2.07 0-2.86zM5.41 20L4 18.59l7.72-7.72 1.47 1.35L5.41 20z\"/>\n",
              "  </svg>\n",
              "      </button>\n",
              "      \n",
              "  <style>\n",
              "    .colab-df-container {\n",
              "      display:flex;\n",
              "      flex-wrap:wrap;\n",
              "      gap: 12px;\n",
              "    }\n",
              "\n",
              "    .colab-df-convert {\n",
              "      background-color: #E8F0FE;\n",
              "      border: none;\n",
              "      border-radius: 50%;\n",
              "      cursor: pointer;\n",
              "      display: none;\n",
              "      fill: #1967D2;\n",
              "      height: 32px;\n",
              "      padding: 0 0 0 0;\n",
              "      width: 32px;\n",
              "    }\n",
              "\n",
              "    .colab-df-convert:hover {\n",
              "      background-color: #E2EBFA;\n",
              "      box-shadow: 0px 1px 2px rgba(60, 64, 67, 0.3), 0px 1px 3px 1px rgba(60, 64, 67, 0.15);\n",
              "      fill: #174EA6;\n",
              "    }\n",
              "\n",
              "    [theme=dark] .colab-df-convert {\n",
              "      background-color: #3B4455;\n",
              "      fill: #D2E3FC;\n",
              "    }\n",
              "\n",
              "    [theme=dark] .colab-df-convert:hover {\n",
              "      background-color: #434B5C;\n",
              "      box-shadow: 0px 1px 3px 1px rgba(0, 0, 0, 0.15);\n",
              "      filter: drop-shadow(0px 1px 2px rgba(0, 0, 0, 0.3));\n",
              "      fill: #FFFFFF;\n",
              "    }\n",
              "  </style>\n",
              "\n",
              "      <script>\n",
              "        const buttonEl =\n",
              "          document.querySelector('#df-49709c15-da7e-4e18-98e9-39abecdc4691 button.colab-df-convert');\n",
              "        buttonEl.style.display =\n",
              "          google.colab.kernel.accessAllowed ? 'block' : 'none';\n",
              "\n",
              "        async function convertToInteractive(key) {\n",
              "          const element = document.querySelector('#df-49709c15-da7e-4e18-98e9-39abecdc4691');\n",
              "          const dataTable =\n",
              "            await google.colab.kernel.invokeFunction('convertToInteractive',\n",
              "                                                     [key], {});\n",
              "          if (!dataTable) return;\n",
              "\n",
              "          const docLinkHtml = 'Like what you see? Visit the ' +\n",
              "            '<a target=\"_blank\" href=https://colab.research.google.com/notebooks/data_table.ipynb>data table notebook</a>'\n",
              "            + ' to learn more about interactive tables.';\n",
              "          element.innerHTML = '';\n",
              "          dataTable['output_type'] = 'display_data';\n",
              "          await google.colab.output.renderOutput(dataTable, element);\n",
              "          const docLink = document.createElement('div');\n",
              "          docLink.innerHTML = docLinkHtml;\n",
              "          element.appendChild(docLink);\n",
              "        }\n",
              "      </script>\n",
              "    </div>\n",
              "  </div>\n",
              "  "
            ]
          },
          "metadata": {},
          "execution_count": 404
        }
      ]
    },
    {
      "cell_type": "code",
      "source": [
        "client_pred_data.drop(columns=[0]).to_csv(gc_path + 'final_1.csv', index=False)"
      ],
      "metadata": {
        "id": "uUyXBSe7d9l0"
      },
      "execution_count": null,
      "outputs": []
    }
  ]
}